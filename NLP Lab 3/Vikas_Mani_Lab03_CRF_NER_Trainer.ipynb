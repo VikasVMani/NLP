{
 "cells": [
  {
   "cell_type": "markdown",
   "metadata": {},
   "source": [
    "# Lab 03 - NLP - Named Entity Recognition"
   ]
  },
  {
   "cell_type": "code",
   "execution_count": 1,
   "metadata": {
    "tags": []
   },
   "outputs": [],
   "source": [
    "from itertools import chain\n",
    "import nltk\n",
    "from sklearn.metrics import classification_report, confusion_matrix,ConfusionMatrixDisplay \n",
    "from sklearn.preprocessing import MultiLabelBinarizer\n",
    "import sklearn\n",
    "import pycrfsuite\n",
    "from nltk.corpus.reader import ConllChunkCorpusReader\n",
    "from seqeval.metrics import accuracy_score\n",
    "from seqeval.metrics import classification_report\n",
    "from seqeval.metrics import f1_score\n",
    "from seqeval.scheme import IOB1\n",
    "import codecs\n",
    "import matplotlib.pyplot as plt\n",
    "import pandas as pd\n",
    "mlb = MultiLabelBinarizer()"
   ]
  },
  {
   "cell_type": "markdown",
   "metadata": {},
   "source": [
    "## Reading Train/Test Data"
   ]
  },
  {
   "cell_type": "code",
   "execution_count": 2,
   "metadata": {},
   "outputs": [
    {
     "name": "stdout",
     "output_type": "stream",
     "text": [
      "100\n"
     ]
    }
   ],
   "source": [
    "mycorpus = ConllChunkCorpusReader(r\"PA/\", r\".*train\",chunk_types=\"pos\")\n",
    "train_corpus = []\n",
    "for tree in mycorpus.tagged_sents():\n",
    "    train_corpus.append(tree)\n",
    "    \n",
    "print(len(train_corpus))\n",
    "# print(train_corpus[1])"
   ]
  },
  {
   "cell_type": "code",
   "execution_count": 3,
   "metadata": {},
   "outputs": [
    {
     "name": "stdout",
     "output_type": "stream",
     "text": [
      "100\n"
     ]
    }
   ],
   "source": [
    "mycorpus = ConllChunkCorpusReader(r\"PA/\", r\".*test\",chunk_types=\"pos\")\n",
    "test_corpus = []\n",
    "for tree in mycorpus.tagged_sents():\n",
    "    test_corpus.append(tree)\n",
    "print(len(test_corpus))\n",
    "# print(test_corpus[1])"
   ]
  },
  {
   "cell_type": "markdown",
   "metadata": {},
   "source": [
    "## Features\n",
    "Next, define some features. In this example we use word identity, word suffix, word shape; also, some information from nearby words is used."
   ]
  },
  {
   "cell_type": "code",
   "execution_count": 4,
   "metadata": {
    "tags": []
   },
   "outputs": [],
   "source": [
    "#Every word is represented by a set of features. CRF allows us to give any arbitrary set of features\n",
    "def word2features(sent, i):\n",
    "    word = sent[i][0]\n",
    "    features = [\n",
    "        'bias',\n",
    "        'word.lower=' + word.lower(),\n",
    "        'word[-3:]=' + word[-3:],\n",
    "        'word[-2:]=' + word[-2:],\n",
    "        'word.isupper=%s' % word.isupper(),\n",
    "        'word.istitle=%s' % word.istitle(),\n",
    "        'word.isdigit=%s' % word.isdigit(),\n",
    "    ]\n",
    "    if i > 0:\n",
    "        word1 = sent[i-1][0]\n",
    "        features.extend([\n",
    "            '-1:word.lower=' + word1.lower(),\n",
    "            '-1:word.istitle=%s' % word1.istitle(),\n",
    "            '-1:word.isupper=%s' % word1.isupper(),\n",
    "        ])\n",
    "    else:\n",
    "        features.append('BOS')\n",
    "        \n",
    "    if i < len(sent)-1:\n",
    "        word1 = sent[i+1][0]\n",
    "        features.extend([\n",
    "            '+1:word.lower=' + word1.lower(),\n",
    "            '+1:word.istitle=%s' % word1.istitle(),\n",
    "            '+1:word.isupper=%s' % word1.isupper(),\n",
    "        ])\n",
    "    else:\n",
    "        features.append('EOS')\n",
    "                \n",
    "    return features\n",
    "\n",
    "def word2featuresTest(sent, i):\n",
    "    word = sent[i]\n",
    "    features = [\n",
    "        'bias',\n",
    "        'word.lower=' + word.lower(),\n",
    "        'word[-3:]=' + word[-3:],\n",
    "        'word[-2:]=' + word[-2:],\n",
    "        'word.isupper=%s' % word.isupper(),\n",
    "        'word.istitle=%s' % word.istitle(),\n",
    "        'word.isdigit=%s' % word.isdigit(),\n",
    "    ]\n",
    "    if i > 0:\n",
    "        word1 = sent[i-1]\n",
    "        features.extend([\n",
    "            '-1:word.lower=' + word1.lower(),\n",
    "            '-1:word.istitle=%s' % word1.istitle(),\n",
    "            '-1:word.isupper=%s' % word1.isupper(),\n",
    "        ])\n",
    "    else:\n",
    "        features.append('BOS')\n",
    "        \n",
    "    if i < len(sent)-1:\n",
    "        word1 = sent[i+1]\n",
    "        features.extend([\n",
    "            '+1:word.lower=' + word1.lower(),\n",
    "            '+1:word.istitle=%s' % word1.istitle(),\n",
    "            '+1:word.isupper=%s' % word1.isupper(),\n",
    "        ])\n",
    "    else:\n",
    "        features.append('EOS')\n",
    "                \n",
    "    return features\n",
    "\n",
    "def sent2features(sent):\n",
    "    return [word2features(sent, i) for i in range(len(sent))]\n",
    "\n",
    "def sent2featuresTest(sent):\n",
    "    return [word2featuresTest(sent, i) for i in range(len(sent))]\n",
    "\n",
    "def sent2labels(sent):\n",
    "    return [label for token, label in sent]\n",
    "\n",
    "def sent2tokens(sent):\n",
    "    return [token for token, label in sent]"
   ]
  },
  {
   "cell_type": "code",
   "execution_count": 5,
   "metadata": {},
   "outputs": [
    {
     "name": "stdout",
     "output_type": "stream",
     "text": [
      "('pa:ਰੀਡਿਰੈਕਟ', 'O')\n",
      "['bias', 'word.lower=pa:ਰੀਡਿਰੈਕਟ', 'word[-3:]=ੈਕਟ', 'word[-2:]=ਕਟ', 'word.isupper=False', 'word.istitle=False', 'word.isdigit=False', 'BOS', '+1:word.lower=pa:ਟਾਈਮ', '+1:word.istitle=False', '+1:word.isupper=False']\n"
     ]
    }
   ],
   "source": [
    "X_train = [sent2features(s) for s in train_corpus]\n",
    "y_train = [sent2labels(s) for s in train_corpus]\n",
    "\n",
    "X_test = [sent2features(s) for s in test_corpus]\n",
    "y_test = [sent2labels(s) for s in test_corpus]\n",
    "\n",
    "print(train_corpus[5][0])\n",
    "print(X_train[5][0])"
   ]
  },
  {
   "cell_type": "code",
   "execution_count": 6,
   "metadata": {
    "tags": []
   },
   "outputs": [],
   "source": [
    "trainer = pycrfsuite.Trainer(verbose=False)\n",
    "\n",
    "for xseq, yseq in zip(X_train, y_train):\n",
    "    trainer.append(xseq, yseq)\n",
    "y_train = mlb.fit_transform(y_train) #Fitting the y_train with help of MultiLabelBinarizer"
   ]
  },
  {
   "cell_type": "markdown",
   "metadata": {},
   "source": [
    "## Trying different combinations of Hperparameters containing Model training, predictions obtaining and dumping predictions to Disk. "
   ]
  },
  {
   "cell_type": "code",
   "execution_count": 7,
   "metadata": {},
   "outputs": [
    {
     "name": "stdout",
     "output_type": "stream",
     "text": [
      "F1 Score is=\n",
      "0.4126984126984127\n",
      "Classification report=\n",
      "              precision    recall  f1-score   support\n",
      "\n",
      "         LOC       1.00      0.06      0.11        33\n",
      "         ORG       0.41      0.90      0.56        31\n",
      "         PER       0.60      0.23      0.33        39\n",
      "\n",
      "   micro avg       0.45      0.38      0.41       103\n",
      "   macro avg       0.67      0.40      0.34       103\n",
      "weighted avg       0.67      0.38      0.33       103\n",
      "\n",
      "Confusion matrix=\n",
      "[[ 2 15  4 11]\n",
      " [ 0 30  1  0]\n",
      " [ 0 24 10  3]\n",
      " [ 0  0  0  0]]\n"
     ]
    },
    {
     "data": {
      "image/png": "[encoded data removed]",
      "text/plain": [
       "<Figure size 432x288 with 2 Axes>"
      ]
     },
     "metadata": {
      "needs_background": "light"
     },
     "output_type": "display_data"
    },
    {
     "name": "stdout",
     "output_type": "stream",
     "text": [
      "C1 & c2 = 1 1\n",
      "Weighted F1 Score=\n",
      "0.331373092926491\n",
      "\n",
      "F1 Score is=\n",
      "0.6237623762376238\n",
      "Classification report=\n",
      "              precision    recall  f1-score   support\n",
      "\n",
      "         LOC       0.78      0.55      0.64        33\n",
      "         ORG       0.58      0.68      0.63        31\n",
      "         PER       0.60      0.62      0.61        39\n",
      "\n",
      "   micro avg       0.64      0.61      0.62       103\n",
      "   macro avg       0.66      0.61      0.63       103\n",
      "weighted avg       0.65      0.61      0.62       103\n",
      "\n",
      "Confusion matrix=\n",
      "[[21  4  6  1]\n",
      " [ 2 21  8  0]\n",
      " [ 0 10 26  1]\n",
      " [ 0  0  0  0]]\n"
     ]
    },
    {
     "data": {
      "image/png": "[encoded data removed]",
      "text/plain": [
       "<Figure size 432x288 with 2 Axes>"
      ]
     },
     "metadata": {
      "needs_background": "light"
     },
     "output_type": "display_data"
    },
    {
     "name": "stdout",
     "output_type": "stream",
     "text": [
      "C1 & c2 = 1 0.01\n",
      "Weighted F1 Score=\n",
      "0.6246924666682214\n",
      "\n",
      "F1 Score is=\n",
      "0.5841584158415842\n",
      "Classification report=\n",
      "              precision    recall  f1-score   support\n",
      "\n",
      "         LOC       0.81      0.52      0.63        33\n",
      "         ORG       0.46      0.81      0.59        31\n",
      "         PER       0.71      0.44      0.54        39\n",
      "\n",
      "   micro avg       0.60      0.57      0.58       103\n",
      "   macro avg       0.66      0.59      0.59       103\n",
      "weighted avg       0.67      0.57      0.58       103\n",
      "\n",
      "Confusion matrix=\n",
      "[[19  9  3  1]\n",
      " [ 2 26  3  0]\n",
      " [ 0 19 18  0]\n",
      " [ 0  0  0  0]]\n"
     ]
    },
    {
     "data": {
      "image/png": "[encoded data removed]",
      "text/plain": [
       "<Figure size 432x288 with 2 Axes>"
      ]
     },
     "metadata": {
      "needs_background": "light"
     },
     "output_type": "display_data"
    },
    {
     "name": "stdout",
     "output_type": "stream",
     "text": [
      "C1 & c2 = 0.001 0.0001\n",
      "Weighted F1 Score=\n",
      "0.583113504301397\n",
      "\n",
      "F1 Score is=\n",
      "0.5812807881773399\n",
      "Classification report=\n",
      "              precision    recall  f1-score   support\n",
      "\n",
      "         LOC       0.78      0.55      0.64        33\n",
      "         ORG       0.48      0.84      0.61        31\n",
      "         PER       0.65      0.38      0.48        39\n",
      "\n",
      "   micro avg       0.59      0.57      0.58       103\n",
      "   macro avg       0.64      0.59      0.58       103\n",
      "weighted avg       0.64      0.57      0.57       103\n",
      "\n",
      "Confusion matrix=\n",
      "[[21  7  3  1]\n",
      " [ 2 26  3  0]\n",
      " [ 0 20 17  0]\n",
      " [ 0  0  0  0]]\n"
     ]
    },
    {
     "data": {
      "image/png": "[encoded data removed]",
      "text/plain": [
       "<Figure size 432x288 with 2 Axes>"
      ]
     },
     "metadata": {
      "needs_background": "light"
     },
     "output_type": "display_data"
    },
    {
     "name": "stdout",
     "output_type": "stream",
     "text": [
      "C1 & c2 = 0.01 0.001\n",
      "Weighted F1 Score=\n",
      "0.5733005761026616\n",
      "\n",
      "F1 Score is=\n",
      "0.5882352941176471\n",
      "Classification report=\n",
      "              precision    recall  f1-score   support\n",
      "\n",
      "         LOC       0.78      0.55      0.64        33\n",
      "         ORG       0.46      0.81      0.59        31\n",
      "         PER       0.71      0.44      0.54        39\n",
      "\n",
      "   micro avg       0.59      0.58      0.59       103\n",
      "   macro avg       0.65      0.60      0.59       103\n",
      "weighted avg       0.66      0.58      0.59       103\n",
      "\n",
      "Confusion matrix=\n",
      "[[20  9  3]\n",
      " [ 3 25  3]\n",
      " [ 0 19 18]]\n"
     ]
    },
    {
     "data": {
      "image/png": "[encoded data removed]",
      "text/plain": [
       "<Figure size 432x288 with 2 Axes>"
      ]
     },
     "metadata": {
      "needs_background": "light"
     },
     "output_type": "display_data"
    },
    {
     "name": "stdout",
     "output_type": "stream",
     "text": [
      "C1 & c2 = 0.0001 1e-06\n",
      "Weighted F1 Score=\n",
      "0.587351445432542\n",
      "\n",
      "F1 Score is=\n",
      "0.6039603960396039\n",
      "Classification report=\n",
      "              precision    recall  f1-score   support\n",
      "\n",
      "         LOC       0.89      0.52      0.65        33\n",
      "         ORG       0.51      0.71      0.59        31\n",
      "         PER       0.59      0.56      0.58        39\n",
      "\n",
      "   micro avg       0.62      0.59      0.60       103\n",
      "   macro avg       0.67      0.60      0.61       103\n",
      "weighted avg       0.67      0.59      0.61       103\n",
      "\n",
      "Confusion matrix=\n",
      "[[19  7  5  1]\n",
      " [ 0 23  8  0]\n",
      " [ 0 13 24  0]\n",
      " [ 0  0  0  0]]\n"
     ]
    },
    {
     "data": {
      "image/png": "[encoded data removed]",
      "text/plain": [
       "<Figure size 432x288 with 2 Axes>"
      ]
     },
     "metadata": {
      "needs_background": "light"
     },
     "output_type": "display_data"
    },
    {
     "name": "stdout",
     "output_type": "stream",
     "text": [
      "C1 & c2 = 1 0.0001\n",
      "Weighted F1 Score=\n",
      "0.6076534259978308\n",
      "\n",
      "F1 Score is=\n",
      "0.5784313725490196\n",
      "Classification report=\n",
      "              precision    recall  f1-score   support\n",
      "\n",
      "         LOC       0.83      0.58      0.68        33\n",
      "         ORG       0.47      0.81      0.60        31\n",
      "         PER       0.60      0.38      0.47        39\n",
      "\n",
      "   micro avg       0.58      0.57      0.58       103\n",
      "   macro avg       0.63      0.59      0.58       103\n",
      "weighted avg       0.63      0.57      0.57       103\n",
      "\n",
      "Confusion matrix=\n",
      "[[21  7  3  1]\n",
      " [ 2 25  4  0]\n",
      " [ 0 20 17  0]\n",
      " [ 0  0  0  0]]\n"
     ]
    },
    {
     "data": {
      "image/png": "[encoded data removed]",
      "text/plain": [
       "<Figure size 432x288 with 2 Axes>"
      ]
     },
     "metadata": {
      "needs_background": "light"
     },
     "output_type": "display_data"
    },
    {
     "name": "stdout",
     "output_type": "stream",
     "text": [
      "C1 & c2 = 0.01 1e-05\n",
      "Weighted F1 Score=\n",
      "0.5740435737401758\n",
      "\n"
     ]
    }
   ],
   "source": [
    "a = [1, 1, 1e-3, 1e-2, 1e-4,1,1e-2]\n",
    "b = [1, 1e-2, 1e-4, 1e-3, 1e-6,1e-4,1e-5]\n",
    "sc = [] # To store F1 score for all combinations.\n",
    "for i in range(len(a)):\n",
    "        \n",
    "                trainer.set_params({\n",
    "                    'c1': a[i],   \n",
    "                    'c2' : b[i],  \n",
    "                    'max_iterations': 100,  \n",
    "                    'feature.possible_transitions': True\n",
    "                })\n",
    "                \n",
    "                trainer.train('punjabi-ner.crfsuite')\n",
    "\n",
    "                tagger = pycrfsuite.Tagger()\n",
    "                tagger.open('punjabi-ner.crfsuite')\n",
    "\n",
    "                \n",
    "                y_pred = [tagger.tag(xseq) for xseq in X_test]\n",
    "                \n",
    "                \n",
    "                with codecs.open('crf.out.txt', 'w', encoding='utf-8') as out_file:\n",
    "                    for every_sent,pred_label in zip(test_corpus, y_pred):\n",
    "                        for every_word_correct_label,predicted_label in zip(every_sent, pred_label):\n",
    "                            out_file.write(every_word_correct_label[0] + \"\\t\" \n",
    "                                           + every_word_correct_label[1] + \"\\t\" + predicted_label)\n",
    "                            out_file.write(\"\\n\")\n",
    "                        out_file.write(\"\\n\")\n",
    "\n",
    "\n",
    "                def conllReader(filename, word_field=0, label_field=1, prediction_field=2):\n",
    "                    sentences_true_labels = []\n",
    "                    sentences_pred_labels = []\n",
    "                    true_list = []\n",
    "                    pred_list = []\n",
    "                    label_list = []\n",
    "\n",
    "                    with codecs.open(filename, 'r', errors='ignore', encoding='utf8') as f_in:\n",
    "                        for line in f_in:\n",
    "                            line = line.strip()\n",
    "                            if line:\n",
    "                                if line.startswith('#'):\n",
    "                                    continue\n",
    "                                label = line.split('\\t')[label_field]\n",
    "                                pred = line.split('\\t')[prediction_field]\n",
    "                                true_list.append( label )\n",
    "                                pred_list.append( pred )\n",
    "\n",
    "                            else:\n",
    "                                if len(true_list) > 0:\n",
    "                                    sentences_true_labels.append( true_list )\n",
    "                                    sentences_pred_labels.append( pred_list )\n",
    "                                true_list = []\n",
    "                                pred_list = []\n",
    "                        f_in.close()\n",
    "\n",
    "                    return sentences_true_labels, sentences_pred_labels\n",
    "\n",
    "\n",
    "\n",
    "                true_labels, predicted_labels = conllReader(\"crf.out.txt\")\n",
    "                                \n",
    "                print('F1 Score is=')\n",
    "                print( f1_score(true_labels, predicted_labels) )\n",
    "\n",
    "                print('Classification report=')\n",
    "                print( classification_report(true_labels, predicted_labels, scheme=IOB1) )\n",
    "                \n",
    "                cm = confusion_matrix(mlb.fit_transform(true_labels).argmax(axis=1), \n",
    "                                      mlb.fit_transform(predicted_labels).argmax(axis=1))\n",
    "                print(\"Confusion matrix=\")\n",
    "                print(cm)\n",
    "                disp = ConfusionMatrixDisplay(confusion_matrix=cm)\n",
    "                disp.plot()\n",
    "                plt.show()\n",
    "                print(\"C1 & c2 =\", a[i],b[i])\n",
    "                print(\"Weighted F1 Score=\")\n",
    "                print(f1_score(true_labels, predicted_labels, average=\"weighted\"))\n",
    "                sc.append(f1_score(true_labels, predicted_labels, average=\"weighted\"))\n",
    "                print()\n",
    "                \n",
    "                \n",
    "                \n",
    "                \n"
   ]
  },
  {
   "cell_type": "markdown",
   "metadata": {},
   "source": [
    "### After reviewing my results for F1_score, it is clearly visible that c1 = '1'  and c2 = '1e-2' will be a best fit for my Hperparameter settings with weighted F1_score of 0.6246924666682214 ."
   ]
  },
  {
   "cell_type": "markdown",
   "metadata": {},
   "source": [
    "### Plotting the graph between c1,c2 and Weighted F1_score. "
   ]
  },
  {
   "cell_type": "code",
   "execution_count": 8,
   "metadata": {},
   "outputs": [
    {
     "data": {
      "image/png": "[encoded data removed]",
      "text/plain": [
       "<Figure size 432x288 with 1 Axes>"
      ]
     },
     "metadata": {
      "needs_background": "light"
     },
     "output_type": "display_data"
    }
   ],
   "source": [
    "import matplotlib.pyplot as plt\n",
    "# Here s denotes weighted F1_score\n",
    "plt.plot(a, b, label = \"c1 vs c2\")\n",
    "plt.plot(a, sc, label = \"c1 vs sc\")\n",
    "plt.plot(b, sc, label = \"c2 vs sc\")\n",
    "\n",
    "plt.xlabel('x - axis')\n",
    "plt.ylabel('y - axis')\n",
    "plt.title('c1 vs c2 vs weighted f1_score')\n",
    "plt.legend()\n",
    "plt.show()"
   ]
  },
  {
   "cell_type": "markdown",
   "metadata": {},
   "source": [
    "### Plotting scatter pattern for better visualization "
   ]
  },
  {
   "cell_type": "code",
   "execution_count": 9,
   "metadata": {},
   "outputs": [
    {
     "data": {
      "image/png": "[encoded data removed]",
      "text/plain": [
       "<Figure size 720x720 with 1 Axes>"
      ]
     },
     "metadata": {
      "needs_background": "light"
     },
     "output_type": "display_data"
    }
   ],
   "source": [
    "fig = plt.figure(figsize=(10, 10))\n",
    "plt.scatter(a, b,linewidths=1, alpha=.8, edgecolor='k', s = 300, c=sc)\n",
    "plt.xlabel('x - axis')\n",
    "\n",
    "plt.ylabel('y - axis')\n",
    "\n",
    "plt.title('c1 vs c2 vs weighted f1_score')\n",
    "plt.show()"
   ]
  },
  {
   "cell_type": "markdown",
   "metadata": {},
   "source": [
    "### Confusion matrix for best Hyperparameter setting. "
   ]
  },
  {
   "cell_type": "code",
   "execution_count": 10,
   "metadata": {},
   "outputs": [
    {
     "name": "stdout",
     "output_type": "stream",
     "text": [
      "F1 Score is=\n",
      "0.6237623762376238\n",
      "Classification report=\n",
      "              precision    recall  f1-score   support\n",
      "\n",
      "         LOC       0.78      0.55      0.64        33\n",
      "         ORG       0.58      0.68      0.63        31\n",
      "         PER       0.60      0.62      0.61        39\n",
      "\n",
      "   micro avg       0.64      0.61      0.62       103\n",
      "   macro avg       0.66      0.61      0.63       103\n",
      "weighted avg       0.65      0.61      0.62       103\n",
      "\n",
      "Confusion matrix=\n",
      "[[21  4  6  1]\n",
      " [ 2 21  8  0]\n",
      " [ 0 10 26  1]\n",
      " [ 0  0  0  0]]\n"
     ]
    },
    {
     "data": {
      "image/png": "[encoded data removed]",
      "text/plain": [
       "<Figure size 432x288 with 2 Axes>"
      ]
     },
     "metadata": {
      "needs_background": "light"
     },
     "output_type": "display_data"
    },
    {
     "name": "stdout",
     "output_type": "stream",
     "text": [
      "Weighted F1 Score=\n",
      "0.6246924666682214\n"
     ]
    }
   ],
   "source": [
    "                trainer.set_params({\n",
    "                    'c1': 1,   \n",
    "                    'c2' : 1e-2,  \n",
    "                    'max_iterations': 100,  \n",
    "                    'feature.possible_transitions': True\n",
    "                })\n",
    "                \n",
    "                trainer.train('punjabi-ner.crfsuite')\n",
    "\n",
    "                tagger = pycrfsuite.Tagger()\n",
    "                tagger.open('punjabi-ner.crfsuite')\n",
    "\n",
    "                \n",
    "                y_pred = [tagger.tag(xseq) for xseq in X_test]\n",
    "                \n",
    "                \n",
    "                with codecs.open('crf.out.txt', 'w', encoding='utf-8') as out_file:\n",
    "                    for every_sent,pred_label in zip(test_corpus, y_pred):\n",
    "                        for every_word_correct_label,predicted_label in zip(every_sent, pred_label):\n",
    "                            out_file.write(every_word_correct_label[0] + \"\\t\" \n",
    "                                           + every_word_correct_label[1] + \"\\t\" + predicted_label)\n",
    "                            out_file.write(\"\\n\")\n",
    "                        out_file.write(\"\\n\")\n",
    "\n",
    "\n",
    "                def conllReader(filename, word_field=0, label_field=1, prediction_field=2):\n",
    "                    sentences_true_labels = []\n",
    "                    sentences_pred_labels = []\n",
    "                    true_list = []\n",
    "                    pred_list = []\n",
    "                    label_list = []\n",
    "\n",
    "                    with codecs.open(filename, 'r', errors='ignore', encoding='utf8') as f_in:\n",
    "                        for line in f_in:\n",
    "                            line = line.strip()\n",
    "                            if line:\n",
    "                                if line.startswith('#'):\n",
    "                                    continue\n",
    "                                label = line.split('\\t')[label_field]\n",
    "                                pred = line.split('\\t')[prediction_field]\n",
    "                                true_list.append( label )\n",
    "                                pred_list.append( pred )\n",
    "\n",
    "                            else:\n",
    "                                if len(true_list) > 0:\n",
    "                                    sentences_true_labels.append( true_list )\n",
    "                                    sentences_pred_labels.append( pred_list )\n",
    "                                true_list = []\n",
    "                                pred_list = []\n",
    "                        f_in.close()\n",
    "\n",
    "                    return sentences_true_labels, sentences_pred_labels\n",
    "\n",
    "\n",
    "\n",
    "                true_labels, predicted_labels = conllReader(\"crf.out.txt\")\n",
    "                                \n",
    "                print('F1 Score is=')\n",
    "                print( f1_score(true_labels, predicted_labels) )\n",
    "\n",
    "                print('Classification report=')\n",
    "                print( classification_report(true_labels, predicted_labels, scheme=IOB1) )\n",
    "                \n",
    "                cm = confusion_matrix(mlb.fit_transform(true_labels).argmax(axis=1), \n",
    "                                      mlb.fit_transform(predicted_labels).argmax(axis=1))\n",
    "                print(\"Confusion matrix=\")\n",
    "                print(cm)\n",
    "                disp = ConfusionMatrixDisplay(confusion_matrix=cm)\n",
    "                disp.plot()\n",
    "                plt.show()\n",
    "                \n",
    "                print(\"Weighted F1 Score=\")\n",
    "                print(f1_score(true_labels, predicted_labels, average=\"weighted\"))"
   ]
  },
  {
   "cell_type": "code",
   "execution_count": null,
   "metadata": {},
   "outputs": [],
   "source": []
  },
  {
   "cell_type": "markdown",
   "metadata": {},
   "source": [
    "## Attaching PoS Tagger-based features"
   ]
  },
  {
   "cell_type": "code",
   "execution_count": 11,
   "metadata": {},
   "outputs": [
    {
     "data": {
      "text/plain": [
       "<contextlib.closing at 0x1b0dac33160>"
      ]
     },
     "execution_count": 11,
     "metadata": {},
     "output_type": "execute_result"
    }
   ],
   "source": [
    "postagger = pycrfsuite.Tagger()\n",
    "postagger.open('punjabi-ner.crfsuite')"
   ]
  },
  {
   "cell_type": "code",
   "execution_count": 12,
   "metadata": {},
   "outputs": [],
   "source": [
    "#Every word is represented by a set of features. CRF allows us to give any arbitrary set of features\n",
    "def word2featurespos(sent, i):\n",
    "    word = sent[i][0]\n",
    "    postag = sent[i][2]\n",
    "    features = [\n",
    "        'bias',\n",
    "        'word.lower=' + word.lower(),\n",
    "        'word[-3:]=' + word[-3:],\n",
    "        'word[-2:]=' + word[-2:],\n",
    "        'word.isupper=%s' % word.isupper(),\n",
    "        'word.istitle=%s' % word.istitle(),\n",
    "        'word.isdigit=%s' % word.isdigit(),\n",
    "        'postag=' + postag,\n",
    "        'postag[:2]=' + postag[:2],\n",
    "    ]\n",
    "    if i > 0:\n",
    "        word1 = sent[i-1][0]\n",
    "        postag1 = sent[i-1][2]\n",
    "        features.extend([\n",
    "            '-1:word.lower=' + word1.lower(),\n",
    "            '-1:word.istitle=%s' % word1.istitle(),\n",
    "            '-1:word.isupper=%s' % word1.isupper(),\n",
    "            '-1:postag=' + postag1,\n",
    "            '-1:postag[:2]=' + postag1[:2],\n",
    "        ])\n",
    "    else:\n",
    "        features.append('BOS')\n",
    "        \n",
    "    if i < len(sent)-1:\n",
    "        word1 = sent[i+1][0]\n",
    "        postag1 = sent[i+1][2]\n",
    "        features.extend([\n",
    "            '+1:word.lower=' + word1.lower(),\n",
    "            '+1:word.istitle=%s' % word1.istitle(),\n",
    "            '+1:word.isupper=%s' % word1.isupper(),\n",
    "            '+1:postag=' + postag1,\n",
    "            '+1:postag[:2]=' + postag1[:2],\n",
    "        ])\n",
    "    else:\n",
    "        features.append('EOS')\n",
    "                \n",
    "    return features\n",
    "\n",
    "def sent2featurespos(sent, postagger):\n",
    "    tagged = postagger.tag(sent2features(sent))\n",
    "    sentNew = [word_nelabel+(pos, ) for word_nelabel,pos in zip(sent, tagged)]\n",
    "    return [word2featurespos(sentNew, i) for i in range(len(sentNew))]\n",
    "\n",
    "def sent2labelspos(sent):\n",
    "    return [label for token, label in sent]\n",
    "\n",
    "def sent2tokenspos(sent):\n",
    "    return [token for token, label in sent]"
   ]
  },
  {
   "cell_type": "code",
   "execution_count": 13,
   "metadata": {},
   "outputs": [
    {
     "name": "stdout",
     "output_type": "stream",
     "text": [
      "[('pa:ਰੀਡਿਰੈਕਟ', 'O'), ('pa:ਰਬਿੰਦਰ', 'B-PER'), ('pa:ਨਾਥ', 'I-PER'), ('pa:ਟੈਗੋਰ', 'I-PER')]\n",
      "\n",
      "\n",
      "[('pa:ਰੀਡਿਰੈਕਟ', 'O', 'O'), ('pa:ਰਬਿੰਦਰ', 'B-PER', 'B-PER'), ('pa:ਨਾਥ', 'I-PER', 'I-PER'), ('pa:ਟੈਗੋਰ', 'I-PER', 'I-PER')]\n"
     ]
    }
   ],
   "source": [
    "for sent in train_corpus:\n",
    "    print(sent)\n",
    "    print(\"\\n\")\n",
    "    s1 = postagger.tag(sent2features(sent))\n",
    "    sentNew = [word_nelabel+(pos, ) for word_nelabel,pos in zip(sent, s1)]\n",
    "    print(sentNew)\n",
    "    break"
   ]
  },
  {
   "cell_type": "code",
   "execution_count": 14,
   "metadata": {},
   "outputs": [],
   "source": [
    "X_train_pos = [sent2featurespos(s, postagger) for s in train_corpus]\n",
    "y_train_pos = [sent2labelspos(s) for s in train_corpus]\n",
    "\n",
    "X_test_pos = [sent2featurespos(s, postagger) for s in test_corpus]\n",
    "y_test_pos = [sent2labelspos(s) for s in test_corpus]\n",
    "\n",
    "# print(X_train_pos[0][0])"
   ]
  },
  {
   "cell_type": "code",
   "execution_count": 15,
   "metadata": {},
   "outputs": [],
   "source": [
    "trainerpos = pycrfsuite.Trainer(verbose=False)\n",
    "\n",
    "for xseq, yseq in zip(X_train_pos, y_train_pos):\n",
    "    trainerpos.append(xseq, yseq)"
   ]
  },
  {
   "cell_type": "code",
   "execution_count": 16,
   "metadata": {
    "tags": []
   },
   "outputs": [
    {
     "name": "stdout",
     "output_type": "stream",
     "text": [
      "F1 Score is\n",
      "0.6237623762376238\n",
      "Classification report\n",
      "              precision    recall  f1-score   support\n",
      "\n",
      "         LOC       0.78      0.55      0.64        33\n",
      "         ORG       0.58      0.68      0.63        31\n",
      "         PER       0.60      0.62      0.61        39\n",
      "\n",
      "   micro avg       0.64      0.61      0.62       103\n",
      "   macro avg       0.66      0.61      0.63       103\n",
      "weighted avg       0.65      0.61      0.62       103\n",
      "\n",
      "Confusion matrix=\n",
      "[[21  4  6  1]\n",
      " [ 2 21  8  0]\n",
      " [ 0 10 26  1]\n",
      " [ 0  0  0  0]]\n"
     ]
    },
    {
     "data": {
      "image/png": "[encoded data removed]",
      "text/plain": [
       "<Figure size 432x288 with 2 Axes>"
      ]
     },
     "metadata": {
      "needs_background": "light"
     },
     "output_type": "display_data"
    },
    {
     "name": "stdout",
     "output_type": "stream",
     "text": [
      "C1 & C2 = 1 1\n",
      "Weighted F1 Score=\n",
      "0.6246924666682214\n",
      "\n",
      "F1 Score is\n",
      "0.6237623762376238\n",
      "Classification report\n",
      "              precision    recall  f1-score   support\n",
      "\n",
      "         LOC       0.78      0.55      0.64        33\n",
      "         ORG       0.58      0.68      0.63        31\n",
      "         PER       0.60      0.62      0.61        39\n",
      "\n",
      "   micro avg       0.64      0.61      0.62       103\n",
      "   macro avg       0.66      0.61      0.63       103\n",
      "weighted avg       0.65      0.61      0.62       103\n",
      "\n",
      "Confusion matrix=\n",
      "[[21  4  6  1]\n",
      " [ 2 21  8  0]\n",
      " [ 0 10 26  1]\n",
      " [ 0  0  0  0]]\n"
     ]
    },
    {
     "data": {
      "image/png": "[encoded data removed]",
      "text/plain": [
       "<Figure size 432x288 with 2 Axes>"
      ]
     },
     "metadata": {
      "needs_background": "light"
     },
     "output_type": "display_data"
    },
    {
     "name": "stdout",
     "output_type": "stream",
     "text": [
      "C1 & C2 = 1 0.01\n",
      "Weighted F1 Score=\n",
      "0.6246924666682214\n",
      "\n",
      "F1 Score is\n",
      "0.6435643564356436\n",
      "Classification report\n",
      "              precision    recall  f1-score   support\n",
      "\n",
      "         LOC       0.78      0.55      0.64        33\n",
      "         ORG       0.60      0.68      0.64        31\n",
      "         PER       0.63      0.67      0.65        39\n",
      "\n",
      "   micro avg       0.66      0.63      0.64       103\n",
      "   macro avg       0.67      0.63      0.64       103\n",
      "weighted avg       0.67      0.63      0.64       103\n",
      "\n",
      "Confusion matrix=\n",
      "[[21  4  6  1]\n",
      " [ 2 21  8  0]\n",
      " [ 0  9 27  1]\n",
      " [ 0  0  0  0]]\n"
     ]
    },
    {
     "data": {
      "image/png": "[encoded data removed]",
      "text/plain": [
       "<Figure size 432x288 with 2 Axes>"
      ]
     },
     "metadata": {
      "needs_background": "light"
     },
     "output_type": "display_data"
    },
    {
     "name": "stdout",
     "output_type": "stream",
     "text": [
      "C1 & C2 = 0.001 0.0001\n",
      "Weighted F1 Score=\n",
      "0.643607363510276\n",
      "\n",
      "F1 Score is\n",
      "0.6435643564356436\n",
      "Classification report\n",
      "              precision    recall  f1-score   support\n",
      "\n",
      "         LOC       0.78      0.55      0.64        33\n",
      "         ORG       0.60      0.68      0.64        31\n",
      "         PER       0.63      0.67      0.65        39\n",
      "\n",
      "   micro avg       0.66      0.63      0.64       103\n",
      "   macro avg       0.67      0.63      0.64       103\n",
      "weighted avg       0.67      0.63      0.64       103\n",
      "\n",
      "Confusion matrix=\n",
      "[[21  4  6  1]\n",
      " [ 2 21  8  0]\n",
      " [ 0  9 27  1]\n",
      " [ 0  0  0  0]]\n"
     ]
    },
    {
     "data": {
      "image/png": "[encoded data removed]",
      "text/plain": [
       "<Figure size 432x288 with 2 Axes>"
      ]
     },
     "metadata": {
      "needs_background": "light"
     },
     "output_type": "display_data"
    },
    {
     "name": "stdout",
     "output_type": "stream",
     "text": [
      "C1 & C2 = 0.01 0.001\n",
      "Weighted F1 Score=\n",
      "0.643607363510276\n",
      "\n",
      "F1 Score is\n",
      "0.6435643564356436\n",
      "Classification report\n",
      "              precision    recall  f1-score   support\n",
      "\n",
      "         LOC       0.78      0.55      0.64        33\n",
      "         ORG       0.60      0.68      0.64        31\n",
      "         PER       0.63      0.67      0.65        39\n",
      "\n",
      "   micro avg       0.66      0.63      0.64       103\n",
      "   macro avg       0.67      0.63      0.64       103\n",
      "weighted avg       0.67      0.63      0.64       103\n",
      "\n",
      "Confusion matrix=\n",
      "[[21  4  6  1]\n",
      " [ 2 21  8  0]\n",
      " [ 0  9 27  1]\n",
      " [ 0  0  0  0]]\n"
     ]
    },
    {
     "data": {
      "image/png": "[encoded data removed]",
      "text/plain": [
       "<Figure size 432x288 with 2 Axes>"
      ]
     },
     "metadata": {
      "needs_background": "light"
     },
     "output_type": "display_data"
    },
    {
     "name": "stdout",
     "output_type": "stream",
     "text": [
      "C1 & C2 = 0.0001 1e-06\n",
      "Weighted F1 Score=\n",
      "0.643607363510276\n",
      "\n",
      "F1 Score is\n",
      "0.6237623762376238\n",
      "Classification report\n",
      "              precision    recall  f1-score   support\n",
      "\n",
      "         LOC       0.78      0.55      0.64        33\n",
      "         ORG       0.58      0.68      0.63        31\n",
      "         PER       0.60      0.62      0.61        39\n",
      "\n",
      "   micro avg       0.64      0.61      0.62       103\n",
      "   macro avg       0.66      0.61      0.63       103\n",
      "weighted avg       0.65      0.61      0.62       103\n",
      "\n",
      "Confusion matrix=\n",
      "[[21  4  6  1]\n",
      " [ 2 21  8  0]\n",
      " [ 0 10 26  1]\n",
      " [ 0  0  0  0]]\n"
     ]
    },
    {
     "data": {
      "image/png": "[encoded data removed]",
      "text/plain": [
       "<Figure size 432x288 with 2 Axes>"
      ]
     },
     "metadata": {
      "needs_background": "light"
     },
     "output_type": "display_data"
    },
    {
     "name": "stdout",
     "output_type": "stream",
     "text": [
      "C1 & C2 = 1 0.0001\n",
      "Weighted F1 Score=\n",
      "0.6246924666682214\n",
      "\n",
      "F1 Score is\n",
      "0.6435643564356436\n",
      "Classification report\n",
      "              precision    recall  f1-score   support\n",
      "\n",
      "         LOC       0.78      0.55      0.64        33\n",
      "         ORG       0.60      0.68      0.64        31\n",
      "         PER       0.63      0.67      0.65        39\n",
      "\n",
      "   micro avg       0.66      0.63      0.64       103\n",
      "   macro avg       0.67      0.63      0.64       103\n",
      "weighted avg       0.67      0.63      0.64       103\n",
      "\n",
      "Confusion matrix=\n",
      "[[21  4  6  1]\n",
      " [ 2 21  8  0]\n",
      " [ 0  9 27  1]\n",
      " [ 0  0  0  0]]\n"
     ]
    },
    {
     "data": {
      "image/png": "[encoded data removed]",
      "text/plain": [
       "<Figure size 432x288 with 2 Axes>"
      ]
     },
     "metadata": {
      "needs_background": "light"
     },
     "output_type": "display_data"
    },
    {
     "name": "stdout",
     "output_type": "stream",
     "text": [
      "C1 & C2 = 0.01 1e-05\n",
      "Weighted F1 Score=\n",
      "0.643607363510276\n",
      "\n"
     ]
    }
   ],
   "source": [
    "a = [1, 1, 1e-3, 1e-2, 1e-4,1,1e-2]\n",
    "b = [1, 1e-2, 1e-4, 1e-3, 1e-6,1e-4,1e-5]\n",
    "sc1 = []\n",
    "for i in range(len(a)):\n",
    "    trainerpos.set_params({\n",
    "    'c1': a[i],   # coefficient for L1 penalty\n",
    "    'c2': b[i],  # coefficient for L2 penalty\n",
    "    'max_iterations': 100,  # stop earlier\n",
    "\n",
    "    # include transitions that are possible, but not observed\n",
    "    'feature.possible_transitions': True\n",
    "    })\n",
    "\n",
    "    trainerpos.train('punjabi-ner-pos.crfsuite')\n",
    "\n",
    "    taggerpos = pycrfsuite.Tagger()\n",
    "    taggerpos.open('punjabi-ner-pos.crfsuite')\n",
    "\n",
    "    y_pred_pos = [taggerpos.tag(xseq) for xseq in X_test_pos]\n",
    "\n",
    "    with codecs.open('crf.out.pos.txt', 'w', encoding=\"utf-8\") as out_file:\n",
    "        for every_sent,pred_label in zip(test_corpus, y_pred_pos):\n",
    "            for every_word_correct_label,predicted_label in zip(every_sent, pred_label):\n",
    "                out_file.write(every_word_correct_label[0] + \"\\t\" + every_word_correct_label[1] + \"\\t\" + predicted_label)\n",
    "                out_file.write(\"\\n\")\n",
    "            out_file.write(\"\\n\")\n",
    "\n",
    "    true_labels, predicted_labels = conllReader(\"crf.out.pos.txt\")\n",
    "\n",
    "    print('F1 Score is')\n",
    "    print( f1_score(true_labels, predicted_labels) )\n",
    "\n",
    "    print('Classification report')\n",
    "    print( classification_report(true_labels, predicted_labels, scheme=IOB1) )\n",
    "\n",
    "    cm = confusion_matrix(mlb.fit_transform(true_labels).argmax(axis=1), \n",
    "                          mlb.fit_transform(predicted_labels).argmax(axis=1))\n",
    "    print(\"Confusion matrix=\")\n",
    "    print(cm)\n",
    "    disp = ConfusionMatrixDisplay(confusion_matrix=cm)\n",
    "    disp.plot()\n",
    "    plt.show()\n",
    "    \n",
    "    print(\"C1 & C2 =\",a[i],b[i])\n",
    "    print(\"Weighted F1 Score=\")\n",
    "    print(f1_score(true_labels, predicted_labels, average=\"weighted\"))\n",
    "    sc1.append(f1_score(true_labels, predicted_labels, average=\"weighted\"))\n",
    "    print()"
   ]
  },
  {
   "cell_type": "markdown",
   "metadata": {
    "tags": []
   },
   "source": [
    "### After applying PoS-tagger based feature we can see that weighted F1_score is same for some of the Hyperparameters taken by me. Ex:- (c1,c2) = ( 1e-3,1e-4 ),( 1e-2,1e-3 ),( 1e-4,1e-6 ),( 1e-2,1e-5 )"
   ]
  },
  {
   "cell_type": "markdown",
   "metadata": {},
   "source": [
    "### Plotting the graph between c1,c2 and Weighted F1_score. "
   ]
  },
  {
   "cell_type": "code",
   "execution_count": 17,
   "metadata": {},
   "outputs": [
    {
     "data": {
      "image/png": "[encoded data removed]",
      "text/plain": [
       "<Figure size 432x288 with 1 Axes>"
      ]
     },
     "metadata": {
      "needs_background": "light"
     },
     "output_type": "display_data"
    }
   ],
   "source": [
    "import matplotlib.pyplot as plt\n",
    "# Here s denotes weighted F1_score\n",
    "plt.plot(a, b, label = \"c1 vs c2\")\n",
    "plt.plot(a, sc1, label = \"c1 vs sc1\")\n",
    "plt.plot(b, sc1, label = \"c2 vs sc1\")\n",
    "\n",
    "plt.xlabel('x - axis')\n",
    "plt.ylabel('y - axis')\n",
    "plt.title('c1 vs c2 vs weighted f1_score')\n",
    "plt.legend()\n",
    "plt.show()"
   ]
  },
  {
   "cell_type": "markdown",
   "metadata": {},
   "source": [
    "### Plotting scatter for better visualization. "
   ]
  },
  {
   "cell_type": "code",
   "execution_count": 18,
   "metadata": {},
   "outputs": [
    {
     "data": {
      "image/png": "[encoded data removed]",
      "text/plain": [
       "<Figure size 720x720 with 1 Axes>"
      ]
     },
     "metadata": {
      "needs_background": "light"
     },
     "output_type": "display_data"
    }
   ],
   "source": [
    "fig = plt.figure(figsize=(10, 10))\n",
    "plt.scatter(a, b, linewidths=1, alpha=.8, edgecolor='k', s = 300, c=sc1)\n",
    "plt.xlabel('x - axis')\n",
    "\n",
    "plt.ylabel('y - axis')\n",
    "\n",
    "plt.title('c1 vs c2 vs weighted f1_score')\n",
    "plt.show()"
   ]
  },
  {
   "cell_type": "markdown",
   "metadata": {},
   "source": [
    "### Confusion matrix for best Hyperparameter setting. "
   ]
  },
  {
   "cell_type": "code",
   "execution_count": 19,
   "metadata": {},
   "outputs": [
    {
     "name": "stdout",
     "output_type": "stream",
     "text": [
      "F1 Score is\n",
      "0.6435643564356436\n",
      "Classification report\n",
      "              precision    recall  f1-score   support\n",
      "\n",
      "         LOC       0.78      0.55      0.64        33\n",
      "         ORG       0.60      0.68      0.64        31\n",
      "         PER       0.63      0.67      0.65        39\n",
      "\n",
      "   micro avg       0.66      0.63      0.64       103\n",
      "   macro avg       0.67      0.63      0.64       103\n",
      "weighted avg       0.67      0.63      0.64       103\n",
      "\n",
      "Confusion matrix=\n",
      "[[21  4  6  1]\n",
      " [ 2 21  8  0]\n",
      " [ 0  9 27  1]\n",
      " [ 0  0  0  0]]\n"
     ]
    },
    {
     "data": {
      "image/png": "[encoded data removed]",
      "text/plain": [
       "<Figure size 432x288 with 2 Axes>"
      ]
     },
     "metadata": {
      "needs_background": "light"
     },
     "output_type": "display_data"
    },
    {
     "name": "stdout",
     "output_type": "stream",
     "text": [
      "C1 & C2 = 0.001 0.0001\n",
      "Weighted F1 Score=\n",
      "0.643607363510276\n"
     ]
    }
   ],
   "source": [
    "    trainerpos.set_params({\n",
    "    'c1': a[2],   # coefficient for L1 penalty\n",
    "    'c2': b[2],  # coefficient for L2 penalty\n",
    "    'max_iterations': 100,  # stop earlier\n",
    "\n",
    "    # include transitions that are possible, but not observed\n",
    "    'feature.possible_transitions': True\n",
    "    })\n",
    "\n",
    "    trainerpos.train('punjabi-ner-pos.crfsuite')\n",
    "\n",
    "    taggerpos = pycrfsuite.Tagger()\n",
    "    taggerpos.open('punjabi-ner-pos.crfsuite')\n",
    "\n",
    "    y_pred_pos = [taggerpos.tag(xseq) for xseq in X_test_pos]\n",
    "\n",
    "    with codecs.open('crf.out.pos.txt', 'w', encoding=\"utf-8\") as out_file:\n",
    "        for every_sent,pred_label in zip(test_corpus, y_pred_pos):\n",
    "            for every_word_correct_label,predicted_label in zip(every_sent, pred_label):\n",
    "                out_file.write(every_word_correct_label[0] + \"\\t\" + every_word_correct_label[1] + \"\\t\" + predicted_label)\n",
    "                out_file.write(\"\\n\")\n",
    "            out_file.write(\"\\n\")\n",
    "\n",
    "    true_labels, predicted_labels = conllReader(\"crf.out.pos.txt\")\n",
    "\n",
    "    print('F1 Score is')\n",
    "    print( f1_score(true_labels, predicted_labels) )\n",
    "\n",
    "    print('Classification report')\n",
    "    print( classification_report(true_labels, predicted_labels, scheme=IOB1) )\n",
    "\n",
    "    cm = confusion_matrix(mlb.fit_transform(true_labels).argmax(axis=1), \n",
    "                          mlb.fit_transform(predicted_labels).argmax(axis=1))\n",
    "    print(\"Confusion matrix=\")\n",
    "    print(cm)\n",
    "    disp = ConfusionMatrixDisplay(confusion_matrix=cm)\n",
    "    disp.plot()\n",
    "    plt.show()\n",
    "    \n",
    "    print(\"C1 & C2 =\",a[2],b[2])\n",
    "    print(\"Weighted F1 Score=\")\n",
    "    print(f1_score(true_labels, predicted_labels, average=\"weighted\"))"
   ]
  },
  {
   "cell_type": "code",
   "execution_count": null,
   "metadata": {},
   "outputs": [],
   "source": []
  },
  {
   "cell_type": "markdown",
   "metadata": {},
   "source": [
    "## Adding Gazatteer features"
   ]
  },
  {
   "cell_type": "code",
   "execution_count": 20,
   "metadata": {},
   "outputs": [],
   "source": [
    "from nltk.corpus.reader import plaintext"
   ]
  },
  {
   "cell_type": "code",
   "execution_count": 21,
   "metadata": {},
   "outputs": [],
   "source": [
    "personGazetteer = []\n",
    "\n",
    "mycorpus = plaintext.PlaintextCorpusReader(\"./PA/\", \"dev\")\n",
    "person = []\n",
    "for sent in mycorpus.words():\n",
    "    person.append(sent)\n",
    "    \n",
    "mycorpus = plaintext.PlaintextCorpusReader(\"./PA/\", \"extra\")\n",
    "for sent in mycorpus.words():\n",
    "    person.append(sent)\n",
    "\n",
    "person = [name.lower() for name in person]\n",
    "personGazetteer = set(person)"
   ]
  },
  {
   "cell_type": "code",
   "execution_count": 22,
   "metadata": {
    "tags": []
   },
   "outputs": [],
   "source": [
    "#Every word is represented by a set of features. CRF allows us to give any arbitrary set of features\n",
    "def word2featuresGaz(sent, i, personGaz):\n",
    "    word = sent[i][0]\n",
    "    features = [\n",
    "        'bias',\n",
    "        'word.lower=' + word.lower(),\n",
    "        'word[-3:]=' + word[-3:],\n",
    "        'word[-2:]=' + word[-2:],\n",
    "        'word.isupper=%s' % word.isupper(),\n",
    "        'word.istitle=%s' % word.istitle(),\n",
    "        'word.isdigit=%s' % word.isdigit(),\n",
    "        'word.ispersongaz=%s' % (word.lower() in personGaz),\n",
    "    ]\n",
    "    if i > 0:\n",
    "        word1 = sent[i-1][0]\n",
    "        features.extend([\n",
    "            '-1:word.lower=' + word1.lower(),\n",
    "            '-1:word.istitle=%s' % word1.istitle(),\n",
    "            '-1:word.isupper=%s' % word1.isupper(),\n",
    "        ])\n",
    "    else:\n",
    "        features.append('BOS')\n",
    "        \n",
    "    if i < len(sent)-1:\n",
    "        word1 = sent[i+1][0]\n",
    "        features.extend([\n",
    "            '+1:word.lower=' + word1.lower(),\n",
    "            '+1:word.istitle=%s' % word1.istitle(),\n",
    "            '+1:word.isupper=%s' % word1.isupper(),\n",
    "        ])\n",
    "    else:\n",
    "        features.append('EOS')\n",
    "                \n",
    "    return features\n",
    "\n",
    "def word2featuresTest(sent, i):\n",
    "    word = sent[i]\n",
    "    features = [\n",
    "        'bias',\n",
    "        'word.lower=' + word.lower(),\n",
    "        'word[-3:]=' + word[-3:],\n",
    "        'word[-2:]=' + word[-2:],\n",
    "        'word.isupper=%s' % word.isupper(),\n",
    "        'word.istitle=%s' % word.istitle(),\n",
    "        'word.isdigit=%s' % word.isdigit(),\n",
    "    ]\n",
    "    if i > 0:\n",
    "        word1 = sent[i-1]\n",
    "        features.extend([\n",
    "            '-1:word.lower=' + word1.lower(),\n",
    "            '-1:word.istitle=%s' % word1.istitle(),\n",
    "            '-1:word.isupper=%s' % word1.isupper(),\n",
    "        ])\n",
    "    else:\n",
    "        features.append('BOS')\n",
    "        \n",
    "    if i < len(sent)-1:\n",
    "        word1 = sent[i+1]\n",
    "        features.extend([\n",
    "            '+1:word.lower=' + word1.lower(),\n",
    "            '+1:word.istitle=%s' % word1.istitle(),\n",
    "            '+1:word.isupper=%s' % word1.isupper(),\n",
    "        ])\n",
    "    else:\n",
    "        features.append('EOS')\n",
    "                \n",
    "    return features\n",
    "\n",
    "def sent2featuresGaz(sent, personGaz):\n",
    "    return [word2featuresGaz(sent, i, personGaz) for i in range(len(sent))]\n",
    "\n",
    "def sent2labels(sent):\n",
    "    return [label for token, label in sent]\n",
    "\n",
    "def sent2tokens(sent):\n",
    "    return [token for token, label in sent]"
   ]
  },
  {
   "cell_type": "code",
   "execution_count": 23,
   "metadata": {},
   "outputs": [],
   "source": [
    "X_train_gaz = [sent2featuresGaz(s, personGazetteer) for s in train_corpus]\n",
    "y_train_gaz = [sent2labels(s) for s in train_corpus]\n",
    "\n",
    "X_test_gaz = [sent2featuresGaz(s, personGazetteer) for s in test_corpus]\n",
    "y_test_gaz = [sent2labels(s) for s in test_corpus]"
   ]
  },
  {
   "cell_type": "code",
   "execution_count": 24,
   "metadata": {
    "tags": []
   },
   "outputs": [],
   "source": [
    "trainergaz = pycrfsuite.Trainer(verbose=False)\n",
    "\n",
    "for xseq, yseq in zip(X_train_gaz, y_train_gaz):\n",
    "    trainergaz.append(xseq, yseq)"
   ]
  },
  {
   "cell_type": "code",
   "execution_count": 25,
   "metadata": {},
   "outputs": [
    {
     "name": "stdout",
     "output_type": "stream",
     "text": [
      "F1 Score is\n",
      "0.4126984126984127\n",
      "Classification report\n",
      "              precision    recall  f1-score   support\n",
      "\n",
      "         LOC       1.00      0.06      0.11        33\n",
      "         ORG       0.41      0.90      0.56        31\n",
      "         PER       0.60      0.23      0.33        39\n",
      "\n",
      "   micro avg       0.45      0.38      0.41       103\n",
      "   macro avg       0.67      0.40      0.34       103\n",
      "weighted avg       0.67      0.38      0.33       103\n",
      "\n",
      "Confusion matrix=\n",
      "[[ 2 15  4 11]\n",
      " [ 0 30  1  0]\n",
      " [ 0 24 10  3]\n",
      " [ 0  0  0  0]]\n"
     ]
    },
    {
     "data": {
      "image/png": "[encoded data removed]",
      "text/plain": [
       "<Figure size 432x288 with 2 Axes>"
      ]
     },
     "metadata": {
      "needs_background": "light"
     },
     "output_type": "display_data"
    },
    {
     "name": "stdout",
     "output_type": "stream",
     "text": [
      "Weighted F1 Score=\n",
      "0.331373092926491\n",
      "\n",
      "F1 Score is\n",
      "0.5643564356435643\n",
      "Classification report\n",
      "              precision    recall  f1-score   support\n",
      "\n",
      "         LOC       0.85      0.52      0.64        33\n",
      "         ORG       0.49      0.84      0.62        31\n",
      "         PER       0.54      0.36      0.43        39\n",
      "\n",
      "   micro avg       0.58      0.55      0.56       103\n",
      "   macro avg       0.63      0.57      0.56       103\n",
      "weighted avg       0.62      0.55      0.55       103\n",
      "\n",
      "Confusion matrix=\n",
      "[[19  6  6  1]\n",
      " [ 1 26  4  0]\n",
      " [ 0 20 16  1]\n",
      " [ 0  0  0  0]]\n"
     ]
    },
    {
     "data": {
      "image/png": "[encoded data removed]",
      "text/plain": [
       "<Figure size 432x288 with 2 Axes>"
      ]
     },
     "metadata": {
      "needs_background": "light"
     },
     "output_type": "display_data"
    },
    {
     "name": "stdout",
     "output_type": "stream",
     "text": [
      "Weighted F1 Score=\n",
      "0.5549542476818534\n",
      "\n",
      "F1 Score is\n",
      "0.5714285714285715\n",
      "Classification report\n",
      "              precision    recall  f1-score   support\n",
      "\n",
      "         LOC       0.77      0.52      0.62        33\n",
      "         ORG       0.46      0.81      0.59        31\n",
      "         PER       0.67      0.41      0.51        39\n",
      "\n",
      "   micro avg       0.58      0.56      0.57       103\n",
      "   macro avg       0.63      0.58      0.57       103\n",
      "weighted avg       0.64      0.56      0.57       103\n",
      "\n",
      "Confusion matrix=\n",
      "[[19  9  3  1]\n",
      " [ 3 25  3  0]\n",
      " [ 0 19 18  0]\n",
      " [ 0  0  0  0]]\n"
     ]
    },
    {
     "data": {
      "image/png": "[encoded data removed]",
      "text/plain": [
       "<Figure size 432x288 with 2 Axes>"
      ]
     },
     "metadata": {
      "needs_background": "light"
     },
     "output_type": "display_data"
    },
    {
     "name": "stdout",
     "output_type": "stream",
     "text": [
      "Weighted F1 Score=\n",
      "0.5674254167686492\n",
      "\n",
      "F1 Score is\n",
      "0.5615763546798028\n",
      "Classification report\n",
      "              precision    recall  f1-score   support\n",
      "\n",
      "         LOC       0.74      0.52      0.61        33\n",
      "         ORG       0.46      0.77      0.58        31\n",
      "         PER       0.64      0.41      0.50        39\n",
      "\n",
      "   micro avg       0.57      0.55      0.56       103\n",
      "   macro avg       0.61      0.57      0.56       103\n",
      "weighted avg       0.62      0.55      0.56       103\n",
      "\n",
      "Confusion matrix=\n",
      "[[20  8  3  1]\n",
      " [ 3 24  4  0]\n",
      " [ 0 19 18  0]\n",
      " [ 0  0  0  0]]\n"
     ]
    },
    {
     "data": {
      "image/png": "[encoded data removed]",
      "text/plain": [
       "<Figure size 432x288 with 2 Axes>"
      ]
     },
     "metadata": {
      "needs_background": "light"
     },
     "output_type": "display_data"
    },
    {
     "name": "stdout",
     "output_type": "stream",
     "text": [
      "Weighted F1 Score=\n",
      "0.5578973313503668\n",
      "\n",
      "F1 Score is\n",
      "0.5615763546798028\n",
      "Classification report\n",
      "              precision    recall  f1-score   support\n",
      "\n",
      "         LOC       0.73      0.48      0.58        33\n",
      "         ORG       0.46      0.81      0.59        31\n",
      "         PER       0.67      0.41      0.51        39\n",
      "\n",
      "   micro avg       0.57      0.55      0.56       103\n",
      "   macro avg       0.62      0.57      0.56       103\n",
      "weighted avg       0.62      0.55      0.56       103\n",
      "\n",
      "Confusion matrix=\n",
      "[[19  9  3  1]\n",
      " [ 3 25  3  0]\n",
      " [ 0 19 18  0]\n",
      " [ 0  0  0  0]]\n"
     ]
    },
    {
     "data": {
      "image/png": "[encoded data removed]",
      "text/plain": [
       "<Figure size 432x288 with 2 Axes>"
      ]
     },
     "metadata": {
      "needs_background": "light"
     },
     "output_type": "display_data"
    },
    {
     "name": "stdout",
     "output_type": "stream",
     "text": [
      "Weighted F1 Score=\n",
      "0.555774931331756\n",
      "\n",
      "F1 Score is\n",
      "0.5572139303482587\n",
      "Classification report\n",
      "              precision    recall  f1-score   support\n",
      "\n",
      "         LOC       0.89      0.52      0.65        33\n",
      "         ORG       0.48      0.84      0.61        31\n",
      "         PER       0.52      0.33      0.41        39\n",
      "\n",
      "   micro avg       0.57      0.54      0.56       103\n",
      "   macro avg       0.63      0.56      0.56       103\n",
      "weighted avg       0.63      0.54      0.55       103\n",
      "\n",
      "Confusion matrix=\n",
      "[[19  7  5  1]\n",
      " [ 0 27  4  0]\n",
      " [ 0 20 16  1]\n",
      " [ 0  0  0  0]]\n"
     ]
    },
    {
     "data": {
      "image/png": "[encoded data removed]",
      "text/plain": [
       "<Figure size 432x288 with 2 Axes>"
      ]
     },
     "metadata": {
      "needs_background": "light"
     },
     "output_type": "display_data"
    },
    {
     "name": "stdout",
     "output_type": "stream",
     "text": [
      "Weighted F1 Score=\n",
      "0.5474308636822913\n",
      "\n",
      "F1 Score is\n",
      "0.5784313725490196\n",
      "Classification report\n",
      "              precision    recall  f1-score   support\n",
      "\n",
      "         LOC       0.75      0.55      0.63        33\n",
      "         ORG       0.49      0.81      0.61        31\n",
      "         PER       0.62      0.41      0.49        39\n",
      "\n",
      "   micro avg       0.58      0.57      0.58       103\n",
      "   macro avg       0.62      0.59      0.58       103\n",
      "weighted avg       0.62      0.57      0.57       103\n",
      "\n",
      "Confusion matrix=\n",
      "[[22  6  3  1]\n",
      " [ 2 25  4  0]\n",
      " [ 0 19 18  0]\n",
      " [ 0  0  0  0]]\n"
     ]
    },
    {
     "data": {
      "image/png": "[encoded data removed]",
      "text/plain": [
       "<Figure size 432x288 with 2 Axes>"
      ]
     },
     "metadata": {
      "needs_background": "light"
     },
     "output_type": "display_data"
    },
    {
     "name": "stdout",
     "output_type": "stream",
     "text": [
      "Weighted F1 Score=\n",
      "0.5722771290053218\n",
      "\n"
     ]
    }
   ],
   "source": [
    "sc2 = []\n",
    "for i in range(len(a)):\n",
    "    trainergaz.set_params({\n",
    "    'c1': a[i],   # coefficient for L1 penalty\n",
    "    'c2': b[i],  # coefficient for L2 penalty\n",
    "    'max_iterations': 150,  # stop earlier\n",
    "\n",
    "    # include transitions that are possible, but not observed\n",
    "    'feature.possible_transitions': True\n",
    "    })\n",
    "\n",
    "    trainergaz.train('punjabi-ner-gaz.crfsuite')\n",
    "\n",
    "    taggergaz = pycrfsuite.Tagger()\n",
    "    taggergaz.open('punjabi-ner-gaz.crfsuite')\n",
    "\n",
    "    y_pred_gaz = [taggergaz.tag(xseq) for xseq in X_test_gaz]\n",
    "\n",
    "    with codecs.open('crf.out.gaz.txt', 'w',encoding=\"utf-8\") as out_file:\n",
    "        for every_sent,pred_label in zip(test_corpus, y_pred_gaz):\n",
    "            for every_word_correct_label,predicted_label in zip(every_sent, pred_label):\n",
    "                out_file.write(every_word_correct_label[0] + \"\\t\" + every_word_correct_label[1] + \"\\t\" + predicted_label)\n",
    "                out_file.write(\"\\n\")\n",
    "            out_file.write(\"\\n\")\n",
    "        \n",
    "    true_labels, predicted_labels = conllReader(\"crf.out.gaz.txt\")\n",
    "\n",
    "    print('F1 Score is')\n",
    "    print( f1_score(true_labels, predicted_labels) )\n",
    "\n",
    "    print('Classification report')\n",
    "    print( classification_report(true_labels, predicted_labels, scheme=IOB1) )\n",
    "\n",
    "    cm = confusion_matrix(mlb.fit_transform(true_labels).argmax(axis=1), mlb.fit_transform(predicted_labels).argmax(axis=1))\n",
    "    print(\"Confusion matrix=\")\n",
    "    print(cm)\n",
    "    disp = ConfusionMatrixDisplay(confusion_matrix=cm)\n",
    "    disp.plot()\n",
    "    plt.show()\n",
    "\n",
    "    print(\"Weighted F1 Score=\")\n",
    "\n",
    "    print(f1_score(true_labels, predicted_labels, average=\"weighted\"))\n",
    "    sc2.append(f1_score(true_labels, predicted_labels, average=\"weighted\"))\n",
    "    print()"
   ]
  },
  {
   "cell_type": "markdown",
   "metadata": {},
   "source": [
    "### Weighted F1_score is best for ( 1e-2, 1e-5 ) Hyperparameter setting. "
   ]
  },
  {
   "cell_type": "markdown",
   "metadata": {},
   "source": [
    "### Plotting the graph and scatter plot. "
   ]
  },
  {
   "cell_type": "code",
   "execution_count": 26,
   "metadata": {},
   "outputs": [
    {
     "data": {
      "image/png": "[encoded data removed]",
      "text/plain": [
       "<Figure size 432x288 with 1 Axes>"
      ]
     },
     "metadata": {
      "needs_background": "light"
     },
     "output_type": "display_data"
    }
   ],
   "source": [
    "import matplotlib.pyplot as plt\n",
    "# Here s denotes weighted F1_score\n",
    "plt.plot(a, b, label = \"c1 vs c2\")\n",
    "plt.plot(a, sc2, label = \"c1 vs sc2\")\n",
    "plt.plot(b, sc2, label = \"c2 vs sc2\")\n",
    "\n",
    "plt.xlabel('x - axis')\n",
    "plt.ylabel('y - axis')\n",
    "plt.title('c1 vs c2 vs weighted f1_score')\n",
    "plt.legend()\n",
    "plt.show()"
   ]
  },
  {
   "cell_type": "code",
   "execution_count": 27,
   "metadata": {},
   "outputs": [
    {
     "data": {
      "image/png": "[encoded data removed]",
      "text/plain": [
       "<Figure size 720x720 with 1 Axes>"
      ]
     },
     "metadata": {
      "needs_background": "light"
     },
     "output_type": "display_data"
    }
   ],
   "source": [
    "fig = plt.figure(figsize=(10, 10))\n",
    "plt.scatter(a, b, linewidths=1, alpha=.8, edgecolor='k', s = 300, c=sc2)\n",
    "plt.xlabel('x - axis')\n",
    "\n",
    "plt.ylabel('y - axis')\n",
    "\n",
    "plt.title('c1 vs c2 vs weighted f1_score')\n",
    "plt.show()"
   ]
  },
  {
   "cell_type": "markdown",
   "metadata": {},
   "source": [
    "### Confusion matrix for best Hyperparameter setting. "
   ]
  },
  {
   "cell_type": "code",
   "execution_count": 28,
   "metadata": {},
   "outputs": [
    {
     "name": "stdout",
     "output_type": "stream",
     "text": [
      "F1 Score is\n",
      "0.5784313725490196\n",
      "Classification report\n",
      "              precision    recall  f1-score   support\n",
      "\n",
      "         LOC       0.75      0.55      0.63        33\n",
      "         ORG       0.49      0.81      0.61        31\n",
      "         PER       0.62      0.41      0.49        39\n",
      "\n",
      "   micro avg       0.58      0.57      0.58       103\n",
      "   macro avg       0.62      0.59      0.58       103\n",
      "weighted avg       0.62      0.57      0.57       103\n",
      "\n",
      "Confusion matrix=\n",
      "[[22  6  3  1]\n",
      " [ 2 25  4  0]\n",
      " [ 0 19 18  0]\n",
      " [ 0  0  0  0]]\n"
     ]
    },
    {
     "data": {
      "image/png": "[encoded data removed]",
      "text/plain": [
       "<Figure size 432x288 with 2 Axes>"
      ]
     },
     "metadata": {
      "needs_background": "light"
     },
     "output_type": "display_data"
    },
    {
     "name": "stdout",
     "output_type": "stream",
     "text": [
      " c1 & c2 = 0.01 1e-05\n",
      "Weighted F1 Score=\n",
      "0.5722771290053218\n"
     ]
    }
   ],
   "source": [
    "    trainergaz.set_params({\n",
    "    'c1': 1e-2,   # coefficient for L1 penalty\n",
    "    'c2': 1e-5,  # coefficient for L2 penalty\n",
    "    'max_iterations': 150,  # stop earlier\n",
    "\n",
    "    # include transitions that are possible, but not observed\n",
    "    'feature.possible_transitions': True\n",
    "    })\n",
    "\n",
    "    trainergaz.train('punjabi-ner-gaz.crfsuite')\n",
    "\n",
    "    taggergaz = pycrfsuite.Tagger()\n",
    "    taggergaz.open('punjabi-ner-gaz.crfsuite')\n",
    "\n",
    "    y_pred_gaz = [taggergaz.tag(xseq) for xseq in X_test_gaz]\n",
    "\n",
    "    with codecs.open('crf.out.gaz.txt', 'w',encoding=\"utf-8\") as out_file:\n",
    "        for every_sent,pred_label in zip(test_corpus, y_pred_gaz):\n",
    "            for every_word_correct_label,predicted_label in zip(every_sent, pred_label):\n",
    "                out_file.write(every_word_correct_label[0] + \"\\t\" + every_word_correct_label[1] + \"\\t\" + predicted_label)\n",
    "                out_file.write(\"\\n\")\n",
    "            out_file.write(\"\\n\")\n",
    "        \n",
    "    true_labels, predicted_labels = conllReader(\"crf.out.gaz.txt\")\n",
    "\n",
    "    print('F1 Score is')\n",
    "    print( f1_score(true_labels, predicted_labels) )\n",
    "\n",
    "    print('Classification report')\n",
    "    print( classification_report(true_labels, predicted_labels, scheme=IOB1) )\n",
    "\n",
    "    cm = confusion_matrix(mlb.fit_transform(true_labels).argmax(axis=1), mlb.fit_transform(predicted_labels).argmax(axis=1))\n",
    "    print(\"Confusion matrix=\")\n",
    "    print(cm)\n",
    "    disp = ConfusionMatrixDisplay(confusion_matrix=cm)\n",
    "    disp.plot()\n",
    "    plt.show()\n",
    "    \n",
    "    print(\" c1 & c2 =\", a[6],b[6])\n",
    "    print(\"Weighted F1 Score=\")\n",
    "\n",
    "    print(f1_score(true_labels, predicted_labels, average=\"weighted\"))"
   ]
  },
  {
   "cell_type": "markdown",
   "metadata": {},
   "source": [
    "### Here F1_score for all Hyperparameters is same so no need to write full code "
   ]
  },
  {
   "cell_type": "code",
   "execution_count": null,
   "metadata": {},
   "outputs": [],
   "source": []
  },
  {
   "cell_type": "markdown",
   "metadata": {},
   "source": [
    "## Adding PoS Tag feature with the Gazetteer Feature"
   ]
  },
  {
   "cell_type": "code",
   "execution_count": 29,
   "metadata": {
    "tags": []
   },
   "outputs": [],
   "source": [
    "#Every word is represented by a set of features. CRF allows us to give any arbitrary set of features\n",
    "def word2featuresposGaz(sent, i, personGaz):\n",
    "    word = sent[i][0]\n",
    "    postag = sent[i][2]\n",
    "    features = [\n",
    "        'bias',\n",
    "        'word.lower=' + word.lower(),\n",
    "        'word[-3:]=' + word[-3:],\n",
    "        'word[-2:]=' + word[-2:],\n",
    "        'word.isupper=%s' % word.isupper(),\n",
    "        'word.istitle=%s' % word.istitle(),\n",
    "        'word.isdigit=%s' % word.isdigit(),\n",
    "        'postag=' + postag,\n",
    "        'postag[:2]=' + postag[:2],\n",
    "        'word.ispersongaz=%s' % (word.lower() in personGaz),\n",
    "    ]\n",
    "    if i > 0:\n",
    "        word1 = sent[i-1][0]\n",
    "        postag1 = sent[i-1][2]\n",
    "        features.extend([\n",
    "            '-1:word.lower=' + word1.lower(),\n",
    "            '-1:word.istitle=%s' % word1.istitle(),\n",
    "            '-1:word.isupper=%s' % word1.isupper(),\n",
    "            '-1:postag=' + postag1,\n",
    "            '-1:postag[:2]=' + postag1[:2],\n",
    "        ])\n",
    "    else:\n",
    "        features.append('BOS')\n",
    "        \n",
    "    if i < len(sent)-1:\n",
    "        word1 = sent[i+1][0]\n",
    "        postag1 = sent[i+1][2]\n",
    "        features.extend([\n",
    "            '+1:word.lower=' + word1.lower(),\n",
    "            '+1:word.istitle=%s' % word1.istitle(),\n",
    "            '+1:word.isupper=%s' % word1.isupper(),\n",
    "            '+1:postag=' + postag1,\n",
    "            '+1:postag[:2]=' + postag1[:2],\n",
    "        ])\n",
    "    else:\n",
    "        features.append('EOS')\n",
    "                \n",
    "    return features\n",
    "\n",
    "def sent2featuresposGaz(sent, personGaz, postagger):\n",
    "    tagged = postagger.tag(sent2features(sent))\n",
    "    sentNew = [word_nelabel+(pos, ) for word_nelabel,pos in zip(sent, tagged)]\n",
    "    return [word2featuresposGaz(sentNew, i, personGaz) for i in range(len(sentNew))]\n",
    "\n",
    "def sent2labels(sent):\n",
    "    return [label for token, label in sent]\n",
    "\n",
    "def sent2tokens(sent):\n",
    "    return [token for token, label in sent]"
   ]
  },
  {
   "cell_type": "code",
   "execution_count": 30,
   "metadata": {},
   "outputs": [],
   "source": [
    "X_train_pos_gaz = [sent2featuresposGaz(s, personGazetteer, postagger) for s in train_corpus]\n",
    "y_train_pos_gaz = [sent2labels(s) for s in train_corpus]\n",
    "\n",
    "X_test_pos_gaz = [sent2featuresposGaz(s, personGazetteer,postagger) for s in test_corpus]\n",
    "y_test_pos_gaz = [sent2labels(s) for s in test_corpus]"
   ]
  },
  {
   "cell_type": "code",
   "execution_count": 31,
   "metadata": {
    "tags": []
   },
   "outputs": [],
   "source": [
    "trainerposgaz = pycrfsuite.Trainer(verbose=False)\n",
    "\n",
    "for xseq, yseq in zip(X_train_pos_gaz, y_train_pos_gaz):\n",
    "    trainerposgaz.append(xseq, yseq)"
   ]
  },
  {
   "cell_type": "code",
   "execution_count": 32,
   "metadata": {},
   "outputs": [
    {
     "name": "stdout",
     "output_type": "stream",
     "text": [
      "F1 Score is\n",
      "0.6237623762376238\n",
      "Classification report\n",
      "              precision    recall  f1-score   support\n",
      "\n",
      "         LOC       0.78      0.55      0.64        33\n",
      "         ORG       0.58      0.68      0.63        31\n",
      "         PER       0.60      0.62      0.61        39\n",
      "\n",
      "   micro avg       0.64      0.61      0.62       103\n",
      "   macro avg       0.66      0.61      0.63       103\n",
      "weighted avg       0.65      0.61      0.62       103\n",
      "\n",
      "Confusion matrix=\n",
      "[[21  4  6  1]\n",
      " [ 2 21  8  0]\n",
      " [ 0 10 26  1]\n",
      " [ 0  0  0  0]]\n"
     ]
    },
    {
     "data": {
      "image/png": "[encoded data removed]",
      "text/plain": [
       "<Figure size 432x288 with 2 Axes>"
      ]
     },
     "metadata": {
      "needs_background": "light"
     },
     "output_type": "display_data"
    },
    {
     "name": "stdout",
     "output_type": "stream",
     "text": [
      "Weighted F1 Score=\n",
      "0.6246924666682214\n",
      "\n",
      "F1 Score is\n",
      "0.6237623762376238\n",
      "Classification report\n",
      "              precision    recall  f1-score   support\n",
      "\n",
      "         LOC       0.78      0.55      0.64        33\n",
      "         ORG       0.58      0.68      0.63        31\n",
      "         PER       0.60      0.62      0.61        39\n",
      "\n",
      "   micro avg       0.64      0.61      0.62       103\n",
      "   macro avg       0.66      0.61      0.63       103\n",
      "weighted avg       0.65      0.61      0.62       103\n",
      "\n",
      "Confusion matrix=\n",
      "[[21  4  6  1]\n",
      " [ 2 21  8  0]\n",
      " [ 0 10 26  1]\n",
      " [ 0  0  0  0]]\n"
     ]
    },
    {
     "data": {
      "image/png": "[encoded data removed]",
      "text/plain": [
       "<Figure size 432x288 with 2 Axes>"
      ]
     },
     "metadata": {
      "needs_background": "light"
     },
     "output_type": "display_data"
    },
    {
     "name": "stdout",
     "output_type": "stream",
     "text": [
      "Weighted F1 Score=\n",
      "0.6246924666682214\n",
      "\n",
      "F1 Score is\n",
      "0.6435643564356436\n",
      "Classification report\n",
      "              precision    recall  f1-score   support\n",
      "\n",
      "         LOC       0.78      0.55      0.64        33\n",
      "         ORG       0.60      0.68      0.64        31\n",
      "         PER       0.63      0.67      0.65        39\n",
      "\n",
      "   micro avg       0.66      0.63      0.64       103\n",
      "   macro avg       0.67      0.63      0.64       103\n",
      "weighted avg       0.67      0.63      0.64       103\n",
      "\n",
      "Confusion matrix=\n",
      "[[21  4  6  1]\n",
      " [ 2 21  8  0]\n",
      " [ 0  9 27  1]\n",
      " [ 0  0  0  0]]\n"
     ]
    },
    {
     "data": {
      "image/png": "[encoded data removed]",
      "text/plain": [
       "<Figure size 432x288 with 2 Axes>"
      ]
     },
     "metadata": {
      "needs_background": "light"
     },
     "output_type": "display_data"
    },
    {
     "name": "stdout",
     "output_type": "stream",
     "text": [
      "Weighted F1 Score=\n",
      "0.643607363510276\n",
      "\n",
      "F1 Score is\n",
      "0.6435643564356436\n",
      "Classification report\n",
      "              precision    recall  f1-score   support\n",
      "\n",
      "         LOC       0.78      0.55      0.64        33\n",
      "         ORG       0.60      0.68      0.64        31\n",
      "         PER       0.63      0.67      0.65        39\n",
      "\n",
      "   micro avg       0.66      0.63      0.64       103\n",
      "   macro avg       0.67      0.63      0.64       103\n",
      "weighted avg       0.67      0.63      0.64       103\n",
      "\n",
      "Confusion matrix=\n",
      "[[21  4  6  1]\n",
      " [ 2 21  8  0]\n",
      " [ 0  9 27  1]\n",
      " [ 0  0  0  0]]\n"
     ]
    },
    {
     "data": {
      "image/png": "[encoded data removed]",
      "text/plain": [
       "<Figure size 432x288 with 2 Axes>"
      ]
     },
     "metadata": {
      "needs_background": "light"
     },
     "output_type": "display_data"
    },
    {
     "name": "stdout",
     "output_type": "stream",
     "text": [
      "Weighted F1 Score=\n",
      "0.643607363510276\n",
      "\n",
      "F1 Score is\n",
      "0.6435643564356436\n",
      "Classification report\n",
      "              precision    recall  f1-score   support\n",
      "\n",
      "         LOC       0.78      0.55      0.64        33\n",
      "         ORG       0.60      0.68      0.64        31\n",
      "         PER       0.63      0.67      0.65        39\n",
      "\n",
      "   micro avg       0.66      0.63      0.64       103\n",
      "   macro avg       0.67      0.63      0.64       103\n",
      "weighted avg       0.67      0.63      0.64       103\n",
      "\n",
      "Confusion matrix=\n",
      "[[21  4  6  1]\n",
      " [ 2 21  8  0]\n",
      " [ 0  9 27  1]\n",
      " [ 0  0  0  0]]\n"
     ]
    },
    {
     "data": {
      "image/png": "[encoded data removed]",
      "text/plain": [
       "<Figure size 432x288 with 2 Axes>"
      ]
     },
     "metadata": {
      "needs_background": "light"
     },
     "output_type": "display_data"
    },
    {
     "name": "stdout",
     "output_type": "stream",
     "text": [
      "Weighted F1 Score=\n",
      "0.643607363510276\n",
      "\n",
      "F1 Score is\n",
      "0.6237623762376238\n",
      "Classification report\n",
      "              precision    recall  f1-score   support\n",
      "\n",
      "         LOC       0.78      0.55      0.64        33\n",
      "         ORG       0.58      0.68      0.63        31\n",
      "         PER       0.60      0.62      0.61        39\n",
      "\n",
      "   micro avg       0.64      0.61      0.62       103\n",
      "   macro avg       0.66      0.61      0.63       103\n",
      "weighted avg       0.65      0.61      0.62       103\n",
      "\n",
      "Confusion matrix=\n",
      "[[21  4  6  1]\n",
      " [ 2 21  8  0]\n",
      " [ 0 10 26  1]\n",
      " [ 0  0  0  0]]\n"
     ]
    },
    {
     "data": {
      "image/png": "[encoded data removed]",
      "text/plain": [
       "<Figure size 432x288 with 2 Axes>"
      ]
     },
     "metadata": {
      "needs_background": "light"
     },
     "output_type": "display_data"
    },
    {
     "name": "stdout",
     "output_type": "stream",
     "text": [
      "Weighted F1 Score=\n",
      "0.6246924666682214\n",
      "\n",
      "F1 Score is\n",
      "0.6435643564356436\n",
      "Classification report\n",
      "              precision    recall  f1-score   support\n",
      "\n",
      "         LOC       0.78      0.55      0.64        33\n",
      "         ORG       0.60      0.68      0.64        31\n",
      "         PER       0.63      0.67      0.65        39\n",
      "\n",
      "   micro avg       0.66      0.63      0.64       103\n",
      "   macro avg       0.67      0.63      0.64       103\n",
      "weighted avg       0.67      0.63      0.64       103\n",
      "\n",
      "Confusion matrix=\n",
      "[[21  4  6  1]\n",
      " [ 2 21  8  0]\n",
      " [ 0  9 27  1]\n",
      " [ 0  0  0  0]]\n"
     ]
    },
    {
     "data": {
      "image/png": "[encoded data removed]",
      "text/plain": [
       "<Figure size 432x288 with 2 Axes>"
      ]
     },
     "metadata": {
      "needs_background": "light"
     },
     "output_type": "display_data"
    },
    {
     "name": "stdout",
     "output_type": "stream",
     "text": [
      "Weighted F1 Score=\n",
      "0.643607363510276\n",
      "\n"
     ]
    }
   ],
   "source": [
    "sc3 = []\n",
    "for i in range(len(a)):\n",
    "    trainerposgaz.set_params({\n",
    "    'c1': a[i],   # coefficient for L1 penalty\n",
    "    'c2': b[i],  # coefficient for L2 penalty\n",
    "    'max_iterations': 150,  # stop earlier\n",
    "\n",
    "    # include transitions that are possible, but not observed\n",
    "    'feature.possible_transitions': True\n",
    "    })\n",
    "    \n",
    "    trainerposgaz.train('punjabi-ner-pos-gaz.crfsuite')\n",
    "    \n",
    "    taggerposgaz = pycrfsuite.Tagger()\n",
    "    taggerposgaz.open('punjabi-ner-pos-gaz.crfsuite')\n",
    "    \n",
    "    y_pred_pos_gaz = [taggerposgaz.tag(xseq) for xseq in X_test_pos_gaz]\n",
    "    with codecs.open('crf.out.pos.gaz.txt', 'w',encoding=\"utf-8\") as out_file:\n",
    "        for every_sent,pred_label in zip(test_corpus, y_pred_pos_gaz):\n",
    "            for every_word_correct_label,predicted_label in zip(every_sent, pred_label):\n",
    "                out_file.write(every_word_correct_label[0] + \"\\t\" + every_word_correct_label[1] + \"\\t\" + predicted_label)\n",
    "                out_file.write(\"\\n\")\n",
    "            out_file.write(\"\\n\")\n",
    "    true_labels, predicted_labels = conllReader(\"crf.out.pos.gaz.txt\")\n",
    "    \n",
    "    print('F1 Score is')\n",
    "    print( f1_score(true_labels, predicted_labels) )\n",
    "\n",
    "    print('Classification report')\n",
    "    print( classification_report(true_labels, predicted_labels, scheme=IOB1) )\n",
    "    cm = confusion_matrix(mlb.fit_transform(true_labels).argmax(axis=1), mlb.fit_transform(predicted_labels).argmax(axis=1))\n",
    "    print(\"Confusion matrix=\")\n",
    "    print(cm)\n",
    "    disp = ConfusionMatrixDisplay(confusion_matrix=cm)\n",
    "    disp.plot()\n",
    "    plt.show()\n",
    "\n",
    "    print(\"Weighted F1 Score=\")\n",
    "\n",
    "    print(f1_score(true_labels, predicted_labels, average=\"weighted\"))\n",
    "    sc3.append(f1_score(true_labels, predicted_labels, average=\"weighted\"))\n",
    "    print()"
   ]
  },
  {
   "cell_type": "markdown",
   "metadata": {},
   "source": [
    "### After applying PoS-tagger with tagging Gazetter feature we can see that weighted F1_score is same for some of the Hyperparameters taken by me. Ex:- (c1,c2) = ( 1e-3,1e-4 ),( 1e-2,1e-3 ),( 1e-4,1e-6 ),( 1e-2,1e-5 )"
   ]
  },
  {
   "cell_type": "markdown",
   "metadata": {},
   "source": [
    "### Plotting the graph and scatter plot. "
   ]
  },
  {
   "cell_type": "code",
   "execution_count": 33,
   "metadata": {
    "tags": []
   },
   "outputs": [
    {
     "data": {
      "image/png": "[encoded data removed]",
      "text/plain": [
       "<Figure size 432x288 with 1 Axes>"
      ]
     },
     "metadata": {
      "needs_background": "light"
     },
     "output_type": "display_data"
    }
   ],
   "source": [
    "import matplotlib.pyplot as plt\n",
    "# Here s denotes weighted F1_score\n",
    "plt.plot(a, b, label = \"c1 vs c2\")\n",
    "plt.plot(a, sc3, label = \"c1 vs sc3\")\n",
    "plt.plot(b, sc3, label = \"c2 vs sc3\")\n",
    "\n",
    "plt.xlabel('x - axis')\n",
    "plt.ylabel('y - axis')\n",
    "plt.title('c1 vs c2 vs weighted f1_score')\n",
    "plt.legend()\n",
    "plt.show()"
   ]
  },
  {
   "cell_type": "code",
   "execution_count": 34,
   "metadata": {},
   "outputs": [
    {
     "data": {
      "image/png": "[encoded data removed]",
      "text/plain": [
       "<Figure size 720x720 with 1 Axes>"
      ]
     },
     "metadata": {
      "needs_background": "light"
     },
     "output_type": "display_data"
    }
   ],
   "source": [
    "fig = plt.figure(figsize=(10, 10))\n",
    "plt.scatter(a, b, linewidths=1, alpha=.8, edgecolor='k', s = 300, c=sc3)\n",
    "plt.xlabel('x - axis')\n",
    "\n",
    "plt.ylabel('y - axis')\n",
    "\n",
    "plt.title('c1 vs c2 vs weighted f1_score')\n",
    "plt.show()"
   ]
  },
  {
   "cell_type": "markdown",
   "metadata": {},
   "source": [
    "### Plotting confusion matrix for best Hyperparameter setting. "
   ]
  },
  {
   "cell_type": "code",
   "execution_count": 35,
   "metadata": {},
   "outputs": [
    {
     "name": "stdout",
     "output_type": "stream",
     "text": [
      "F1 Score is\n",
      "0.6435643564356436\n",
      "Classification report\n",
      "              precision    recall  f1-score   support\n",
      "\n",
      "         LOC       0.78      0.55      0.64        33\n",
      "         ORG       0.60      0.68      0.64        31\n",
      "         PER       0.63      0.67      0.65        39\n",
      "\n",
      "   micro avg       0.66      0.63      0.64       103\n",
      "   macro avg       0.67      0.63      0.64       103\n",
      "weighted avg       0.67      0.63      0.64       103\n",
      "\n",
      "Confusion matrix=\n",
      "[[21  4  6  1]\n",
      " [ 2 21  8  0]\n",
      " [ 0  9 27  1]\n",
      " [ 0  0  0  0]]\n"
     ]
    },
    {
     "data": {
      "image/png": "[encoded data removed]",
      "text/plain": [
       "<Figure size 432x288 with 2 Axes>"
      ]
     },
     "metadata": {
      "needs_background": "light"
     },
     "output_type": "display_data"
    },
    {
     "name": "stdout",
     "output_type": "stream",
     "text": [
      "c1 & c2 = 0.001 0.0001\n",
      "Weighted F1 Score=\n",
      "0.643607363510276\n"
     ]
    }
   ],
   "source": [
    "    trainerposgaz.set_params({\n",
    "    'c1': a[2],   # coefficient for L1 penalty\n",
    "    'c2': b[2],  # coefficient for L2 penalty\n",
    "    'max_iterations': 150,  # stop earlier\n",
    "\n",
    "    # include transitions that are possible, but not observed\n",
    "    'feature.possible_transitions': True\n",
    "    })\n",
    "    \n",
    "    trainerposgaz.train('punjabi-ner-pos-gaz.crfsuite')\n",
    "    \n",
    "    taggerposgaz = pycrfsuite.Tagger()\n",
    "    taggerposgaz.open('punjabi-ner-pos-gaz.crfsuite')\n",
    "    \n",
    "    y_pred_pos_gaz = [taggerposgaz.tag(xseq) for xseq in X_test_pos_gaz]\n",
    "    with codecs.open('crf.out.pos.gaz.txt', 'w',encoding=\"utf-8\") as out_file:\n",
    "        for every_sent,pred_label in zip(test_corpus, y_pred_pos_gaz):\n",
    "            for every_word_correct_label,predicted_label in zip(every_sent, pred_label):\n",
    "                out_file.write(every_word_correct_label[0] + \"\\t\" + every_word_correct_label[1] + \"\\t\" + predicted_label)\n",
    "                out_file.write(\"\\n\")\n",
    "            out_file.write(\"\\n\")\n",
    "    true_labels, predicted_labels = conllReader(\"crf.out.pos.gaz.txt\")\n",
    "    \n",
    "    print('F1 Score is')\n",
    "    print( f1_score(true_labels, predicted_labels) )\n",
    "\n",
    "    print('Classification report')\n",
    "    print( classification_report(true_labels, predicted_labels, scheme=IOB1) )\n",
    "    cm = confusion_matrix(mlb.fit_transform(true_labels).argmax(axis=1), mlb.fit_transform(predicted_labels).argmax(axis=1))\n",
    "    print(\"Confusion matrix=\")\n",
    "    print(cm)\n",
    "    disp = ConfusionMatrixDisplay(confusion_matrix=cm)\n",
    "    disp.plot()\n",
    "    plt.show()\n",
    "\n",
    "    print(\"c1 & c2 =\",a[2],b[2])\n",
    "    print(\"Weighted F1 Score=\")\n",
    "\n",
    "    print(f1_score(true_labels, predicted_labels, average=\"weighted\"))"
   ]
  },
  {
   "cell_type": "code",
   "execution_count": null,
   "metadata": {},
   "outputs": [],
   "source": []
  },
  {
   "cell_type": "markdown",
   "metadata": {},
   "source": [
    "### This finishes work for the lab Assignment 3"
   ]
  }
 ],
 "metadata": {
  "anaconda-cloud": {},
  "interpreter": {
   "hash": "7553fb56ab976ad5aff909b9ab0e5f0d2a23e397f8c044edf0a757925c0fad4d"
  },
  "kernelspec": {
   "display_name": "Python 3 (ipykernel)",
   "language": "python",
   "name": "python3"
  },
  "language_info": {
   "codemirror_mode": {
    "name": "ipython",
    "version": 3
   },
   "file_extension": ".py",
   "mimetype": "text/x-python",
   "name": "python",
   "nbconvert_exporter": "python",
   "pygments_lexer": "ipython3",
   "version": "3.9.7"
  }
 },
 "nbformat": 4,
 "nbformat_minor": 4
}
