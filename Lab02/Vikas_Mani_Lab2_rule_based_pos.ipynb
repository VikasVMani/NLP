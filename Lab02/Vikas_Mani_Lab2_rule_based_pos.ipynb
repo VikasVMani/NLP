{
 "cells": [
  {
   "cell_type": "markdown",
   "id": "69113ede-8dc5-4697-a00a-3aa73b4d9406",
   "metadata": {
    "id": "69113ede-8dc5-4697-a00a-3aa73b4d9406"
   },
   "source": [
    "## In this assignment, we will implement a simple rule-based POS tagger"
   ]
  },
  {
   "cell_type": "markdown",
   "id": "0713cef4-1d79-4bcc-bba7-8d1ed9fb87b3",
   "metadata": {
    "id": "0713cef4-1d79-4bcc-bba7-8d1ed9fb87b3"
   },
   "source": [
    "First let's download the universal dependency treebank from the following url https://lindat.mff.cuni.cz/repository/xmlui/handle/11234/1-4611"
   ]
  },
  {
   "cell_type": "markdown",
   "id": "05b7b7f1-cb8e-4f76-b9b6-0ee4e1aeba1c",
   "metadata": {
    "id": "05b7b7f1-cb8e-4f76-b9b6-0ee4e1aeba1c"
   },
   "source": [
    "Create a folder named `data`. Copy the downloaded `ud-treebanks-v2.9.tgz` file into the current directory and untar it"
   ]
  },
  {
   "cell_type": "markdown",
   "id": "8bfc9da3-8a8c-48b3-804a-4988718b9b8e",
   "metadata": {
    "id": "8bfc9da3-8a8c-48b3-804a-4988718b9b8e"
   },
   "source": [
    "let us import some libraries"
   ]
  },
  {
   "cell_type": "code",
   "execution_count": 2,
   "id": "6ed64767-36ac-43a3-9243-6cab1729507f",
   "metadata": {
    "id": "6ed64767-36ac-43a3-9243-6cab1729507f"
   },
   "outputs": [],
   "source": [
    "import codecs\n",
    "import random\n",
    "\n",
    "from sklearn.metrics import classification_report\n",
    "from sklearn.metrics import confusion_matrix, ConfusionMatrixDisplay\n",
    "\n",
    "import matplotlib.pyplot as plt"
   ]
  },
  {
   "cell_type": "markdown",
   "id": "d09c388d-65b1-4419-baf8-2ff201ede030",
   "metadata": {
    "id": "d09c388d-65b1-4419-baf8-2ff201ede030"
   },
   "source": [
    "Now let's write some utility functions"
   ]
  },
  {
   "cell_type": "markdown",
   "id": "9b2a471e-9d28-4a0c-a038-c083876931de",
   "metadata": {
    "id": "9b2a471e-9d28-4a0c-a038-c083876931de"
   },
   "source": [
    "### Utility Code"
   ]
  },
  {
   "cell_type": "markdown",
   "id": "86534632-7a71-430d-9354-3f6bad646068",
   "metadata": {
    "id": "86534632-7a71-430d-9354-3f6bad646068"
   },
   "source": [
    "#### Code to read data from CoNLL format"
   ]
  },
  {
   "cell_type": "code",
   "execution_count": 3,
   "id": "06eb2c99-8868-4c4f-b3fb-4335437ca71f",
   "metadata": {
    "id": "06eb2c99-8868-4c4f-b3fb-4335437ca71f"
   },
   "outputs": [],
   "source": [
    "def conllReader(filename, word_field=1, label_field=3):\n",
    "    sentences = []\n",
    "    sentence = []\n",
    "    label_list = []\n",
    "    \n",
    "    with codecs.open(filename, 'r', errors='ignore', encoding='utf8') as f_in:\n",
    "        for line in f_in:\n",
    "            line = line.strip()\n",
    "            if line:\n",
    "                if line.startswith('#'):\n",
    "                    continue\n",
    "                word = line.split('\\t')[word_field]\n",
    "                label = line.split('\\t')[label_field]\n",
    "                tokens = [word, label]\n",
    "                sentence.append( tokens )\n",
    "                \n",
    "                if label not in label_list:\n",
    "                    label_list.append( label )\n",
    "            else:\n",
    "                if len(sentence) > 0:\n",
    "                    sentences.append( sentence )\n",
    "                sentence = []\n",
    "        f_in.close()\n",
    "        \n",
    "    return sentences, label_list"
   ]
  },
  {
   "cell_type": "code",
   "execution_count": 4,
   "id": "ecd96ca9-577d-4e28-8c45-90a9bdf3c7f8",
   "metadata": {
    "id": "ecd96ca9-577d-4e28-8c45-90a9bdf3c7f8",
    "outputId": "e1b8abaa-9380-461f-8872-0504a5e2b61c"
   },
   "outputs": [
    {
     "name": "stdout",
     "output_type": "stream",
     "text": [
      "Read 5660 number of train sentences\n",
      "\n",
      "First sentence looks like\n",
      "[['Aesthetic', 'ADJ'], ['Appreciation', 'NOUN'], ['and', 'CCONJ'], ['Spanish', 'ADJ'], ['Art', 'NOUN'], [':', 'PUNCT']]\n",
      "\n",
      " Labels used are\n",
      "['ADJ', 'NOUN', 'CCONJ', 'PUNCT', 'ADP', 'PROPN', 'VERB', 'ADV', 'AUX', 'DET', 'PRON', 'SCONJ', 'X', 'SYM', 'PART', '_', 'NUM', 'INTJ']\n"
     ]
    }
   ],
   "source": [
    "train_split, label_list = conllReader('data/ud-treebanks-v2.9/UD_English-GUM/en_gum-ud-train.conllu', word_field=1, label_field=3)\n",
    "\n",
    "print('Read {0} number of train sentences'.format( len(train_split) ))\n",
    "print('\\nFirst sentence looks like')\n",
    "print(train_split[0])\n",
    "\n",
    "print('\\n Labels used are')\n",
    "print(label_list)"
   ]
  },
  {
   "cell_type": "code",
   "execution_count": 5,
   "id": "275472da-ea56-4d4a-bbdf-a971c01a9e4d",
   "metadata": {
    "id": "275472da-ea56-4d4a-bbdf-a971c01a9e4d"
   },
   "outputs": [],
   "source": [
    "def getMax(dictionary):    \n",
    "    max_key = list(dictionary.keys())[0]\n",
    "    max_value = dictionary[max_key]\n",
    "    for key in dictionary:\n",
    "        if max_value > dictionary[key]:\n",
    "            max_value = dictionary[key]\n",
    "            max_key = key\n",
    "            \n",
    "    return key"
   ]
  },
  {
   "cell_type": "markdown",
   "id": "8d591b14-1edf-46a7-82a5-b6d6974fc54a",
   "metadata": {
    "id": "8d591b14-1edf-46a7-82a5-b6d6974fc54a"
   },
   "source": [
    "Now we have the data loading part written, let's write a simple Most-Frequent POS tagger "
   ]
  },
  {
   "cell_type": "markdown",
   "id": "c6c802aa-fb41-4e16-9704-bf30ddf9b134",
   "metadata": {
    "id": "c6c802aa-fb41-4e16-9704-bf30ddf9b134"
   },
   "source": [
    "### Most Frequent POS Tagger"
   ]
  },
  {
   "cell_type": "markdown",
   "id": "31ff8640-6dfb-4ae5-bacc-0d5f7d0ac9a8",
   "metadata": {
    "id": "31ff8640-6dfb-4ae5-bacc-0d5f7d0ac9a8"
   },
   "source": [
    "Let's load the train and test sets"
   ]
  },
  {
   "cell_type": "code",
   "execution_count": 6,
   "id": "f72e2b51-de51-4b50-adcc-4c8050dbb928",
   "metadata": {
    "id": "f72e2b51-de51-4b50-adcc-4c8050dbb928",
    "outputId": "e4c28cac-5a75-4cca-d230-964e722bc9a8"
   },
   "outputs": [
    {
     "name": "stdout",
     "output_type": "stream",
     "text": [
      "Read 5660 number of train sentences\n",
      "Read 894 number of test sentences\n"
     ]
    }
   ],
   "source": [
    "train_split, label_list = conllReader('data/ud-treebanks-v2.9/UD_English-GUM/en_gum-ud-train.conllu', word_field=1, label_field=3)\n",
    "test_split, _ = conllReader('data/ud-treebanks-v2.9/UD_English-GUM/en_gum-ud-test.conllu', word_field=1, label_field=3)\n",
    "\n",
    "print('Read {0} number of train sentences'.format( len(train_split) ))\n",
    "print('Read {0} number of test sentences'.format( len(test_split) ))"
   ]
  },
  {
   "cell_type": "markdown",
   "id": "bb2ef401-2e5a-43d6-a5d5-d0aece309683",
   "metadata": {
    "id": "bb2ef401-2e5a-43d6-a5d5-d0aece309683"
   },
   "source": [
    "For every word in train split, let's get the POS statistics"
   ]
  },
  {
   "cell_type": "code",
   "execution_count": 7,
   "id": "0a537634-6dbd-411e-bb8c-ecfb46742df9",
   "metadata": {
    "id": "0a537634-6dbd-411e-bb8c-ecfb46742df9",
    "outputId": "92675a16-3d24-4899-f94e-2c548f3a9bad"
   },
   "outputs": [
    {
     "name": "stdout",
     "output_type": "stream",
     "text": [
      "Total number of words in train split is 14074\n",
      "Word is Aesthetic\n",
      "{'ADJ': 1}\n"
     ]
    }
   ],
   "source": [
    "word_pos_frequency = {}\n",
    "\n",
    "for every_sentence in train_split:\n",
    "    for every_token in every_sentence:\n",
    "        word, label = every_token\n",
    "        if word in word_pos_frequency:\n",
    "            if label in word_pos_frequency[word]:\n",
    "                word_pos_frequency[word][label] += 1\n",
    "            else:\n",
    "                word_pos_frequency[word][label] = 1\n",
    "        else:\n",
    "            word_pos_frequency[word] = {}\n",
    "            word_pos_frequency[word][label] = 1\n",
    "            \n",
    "print('Total number of words in train split is {0}'.format( len(word_pos_frequency) ) )\n",
    "first_word = next(iter(word_pos_frequency))\n",
    "print( 'Word is {0}'.format(first_word) )\n",
    "print( word_pos_frequency[first_word] )"
   ]
  },
  {
   "cell_type": "markdown",
   "id": "ce2de991-11f5-4b49-b8ec-4da572bd8dac",
   "metadata": {
    "id": "ce2de991-11f5-4b49-b8ec-4da572bd8dac"
   },
   "source": [
    "### Evaluate on test split"
   ]
  },
  {
   "cell_type": "code",
   "execution_count": 8,
   "id": "a2d18dba-bb24-4598-84c6-1306dbe74846",
   "metadata": {
    "id": "a2d18dba-bb24-4598-84c6-1306dbe74846"
   },
   "outputs": [],
   "source": [
    "ground_truth = []\n",
    "prediction = []\n",
    "\n",
    "for every_sentence in train_split:\n",
    "    ground_truth_sentence = []\n",
    "    prediction_sentence = []\n",
    "\n",
    "    for every_token in every_sentence:\n",
    "        word, label = every_token\n",
    "        ground_truth_sentence.append( label )\n",
    "\n",
    "        if word in word_pos_frequency:\n",
    "            prediction_sentence.append( getMax( word_pos_frequency[word] ) )\n",
    "        else:\n",
    "            prediction_sentence.append( random.choice( label_list ) )\n",
    "            \n",
    "    ground_truth.append( ground_truth_sentence )\n",
    "    prediction.append( prediction_sentence )"
   ]
  },
  {
   "cell_type": "code",
   "execution_count": 9,
   "id": "5a29f089-5e3e-441d-9c7f-18e2d81915f5",
   "metadata": {
    "id": "5a29f089-5e3e-441d-9c7f-18e2d81915f5",
    "outputId": "44e6df13-ab43-4302-c25a-94385c34f655"
   },
   "outputs": [
    {
     "name": "stdout",
     "output_type": "stream",
     "text": [
      "              precision    recall  f1-score   support\n",
      "\n",
      "         ADJ     0.6887    0.7181    0.7031      6938\n",
      "        NOUN     0.4711    0.0499    0.0903     10292\n",
      "       CCONJ     0.2342    0.6311    0.3416      4264\n",
      "       PUNCT     0.6914    0.2691    0.3874      4805\n",
      "         ADP     0.8237    0.1797    0.2950      3250\n",
      "       PROPN     0.1707    0.1186    0.1400      8597\n",
      "        VERB     0.4599    0.7975    0.5833       395\n",
      "         ADV     0.8163    0.8593    0.8372     18146\n",
      "         AUX     0.9897    0.7118    0.8280      2158\n",
      "         DET     0.0914    0.2739    0.1371      2373\n",
      "        PRON     0.8995    0.6273    0.7391      7346\n",
      "       SCONJ     0.7454    0.9038    0.8170      7162\n",
      "           X     0.9907    0.9048    0.9458     14219\n",
      "         SYM     0.1627    0.3032    0.2117      2048\n",
      "        PART     0.1073    0.5404    0.1790       161\n",
      "           _     0.6644    0.8019    0.7267     11051\n",
      "         NUM     0.1314    0.9286    0.2302       252\n",
      "        INTJ     0.8472    0.9150    0.8798      1236\n",
      "\n",
      "    accuracy                         0.6119    104693\n",
      "   macro avg     0.5548    0.5852    0.5040    104693\n",
      "weighted avg     0.6710    0.6119    0.6036    104693\n",
      "\n"
     ]
    }
   ],
   "source": [
    "flatten_gold_truth = [j for sub in ground_truth for j in sub]\n",
    "flatten_predictions = [j for sub in prediction for j in sub]\n",
    "\n",
    "print(classification_report(flatten_gold_truth, flatten_predictions, target_names=label_list, digits=4))"
   ]
  },
  {
   "cell_type": "code",
   "execution_count": 10,
   "id": "10ab234a-1a33-4a1e-ac53-5415e8e35b4f",
   "metadata": {
    "id": "10ab234a-1a33-4a1e-ac53-5415e8e35b4f",
    "outputId": "04e77391-3b02-484c-df5e-b3ec3b806d13"
   },
   "outputs": [
    {
     "data": {
      "text/plain": [
       "<sklearn.metrics._plot.confusion_matrix.ConfusionMatrixDisplay at 0x1f48f9b57f0>"
      ]
     },
     "execution_count": 10,
     "metadata": {},
     "output_type": "execute_result"
    },
    {
     "data": {
      "image/png": "[encoded data removed]",
      "text/plain": [
       "<Figure size 1080x1080 with 2 Axes>"
      ]
     },
     "metadata": {
      "needs_background": "light"
     },
     "output_type": "display_data"
    }
   ],
   "source": [
    "cm = confusion_matrix(flatten_gold_truth, flatten_predictions)\n",
    "\n",
    "cmd = ConfusionMatrixDisplay(cm, display_labels=label_list)\n",
    "\n",
    "fig, ax = plt.subplots()\n",
    "fig.set_figheight(15)\n",
    "fig.set_figwidth(15)\n",
    "\n",
    "cmd.plot(xticks_rotation='vertical', ax =ax)"
   ]
  },
  {
   "cell_type": "code",
   "execution_count": 11,
   "id": "f2faa4d3-1e0a-4241-a914-c91ff68febd7",
   "metadata": {
    "id": "f2faa4d3-1e0a-4241-a914-c91ff68febd7"
   },
   "outputs": [],
   "source": [
    "    \n",
    "# For tasks requiring phrase-level annotation\n",
    "# from seqeval.metrics import accuracy_score\n",
    "# from seqeval.metrics import classification_report\n",
    "# from seqeval.metrics import f1_score\n",
    "# from seqeval.scheme import IOB1\n",
    "# print('F1 Score is')\n",
    "# print( f1_score(ground_truth, prediction) )\n",
    "\n",
    "# print('Classification report')\n",
    "# print( classification_report(ground_truth, prediction, scheme=IOB1) )"
   ]
  },
  {
   "cell_type": "markdown",
   "id": "5ab677fa-bbe9-4355-92b0-7aedd4fce9b3",
   "metadata": {
    "id": "5ab677fa-bbe9-4355-92b0-7aedd4fce9b3"
   },
   "source": [
    "## Implement Rule-based System here"
   ]
  },
  {
   "cell_type": "markdown",
   "id": "bb9450e7-6f6c-4dd2-9c5b-86bcd67c1f98",
   "metadata": {
    "id": "bb9450e7-6f6c-4dd2-9c5b-86bcd67c1f98"
   },
   "source": [
    "Let us write a simple rule to tag adverbs"
   ]
  },
  {
   "cell_type": "code",
   "execution_count": 12,
   "id": "8b21043f-b5a3-4c42-90af-bc3aa2aba3c8",
   "metadata": {
    "id": "8b21043f-b5a3-4c42-90af-bc3aa2aba3c8"
   },
   "outputs": [],
   "source": [
    "def is_adverb(word):\n",
    "    if word.endswith('ly'):\n",
    "        return True\n",
    "    else:\n",
    "        return False"
   ]
  },
  {
   "cell_type": "code",
   "execution_count": 13,
   "id": "5ad119c5-4b6d-4a43-9a2e-a5698e55f393",
   "metadata": {
    "id": "5ad119c5-4b6d-4a43-9a2e-a5698e55f393"
   },
   "outputs": [],
   "source": [
    "ground_truth = []\n",
    "prediction = []\n",
    "\n",
    "for every_sentence in train_split:\n",
    "    ground_truth_sentence = []\n",
    "    prediction_sentence = []\n",
    "\n",
    "    for every_token in every_sentence:\n",
    "        word, label = every_token\n",
    "        ground_truth_sentence.append( label )\n",
    "        \n",
    "        if is_adverb(word):\n",
    "            prediction_sentence.append('ADV')\n",
    "        else:\n",
    "            if word in word_pos_frequency:\n",
    "                prediction_sentence.append( getMax( word_pos_frequency[word] ) )\n",
    "            else:\n",
    "                prediction_sentence.append( random.choice( label_list ) )\n",
    "\n",
    "    ground_truth.append( ground_truth_sentence )\n",
    "    prediction.append( prediction_sentence )"
   ]
  },
  {
   "cell_type": "code",
   "execution_count": 14,
   "id": "f89249aa-45cd-420d-8222-08534fd5ff88",
   "metadata": {
    "id": "f89249aa-45cd-420d-8222-08534fd5ff88",
    "outputId": "3b92b22c-a69c-47dd-9d8d-cd3157718d58"
   },
   "outputs": [
    {
     "name": "stdout",
     "output_type": "stream",
     "text": [
      "              precision    recall  f1-score   support\n",
      "\n",
      "         ADJ     0.6873    0.7113    0.6991      6938\n",
      "        NOUN     0.4711    0.0499    0.0903     10292\n",
      "       CCONJ     0.2363    0.6503    0.3467      4264\n",
      "       PUNCT     0.6914    0.2691    0.3874      4805\n",
      "         ADP     0.9479    0.1791    0.3012      3250\n",
      "       PROPN     0.1707    0.1186    0.1400      8597\n",
      "        VERB     0.4599    0.7975    0.5833       395\n",
      "         ADV     0.8159    0.8573    0.8361     18146\n",
      "         AUX     0.9897    0.7118    0.8280      2158\n",
      "         DET     0.0914    0.2739    0.1371      2373\n",
      "        PRON     0.8995    0.6273    0.7391      7346\n",
      "       SCONJ     0.7443    0.8986    0.8142      7162\n",
      "           X     0.9907    0.9048    0.9458     14219\n",
      "         SYM     0.1627    0.3032    0.2117      2048\n",
      "        PART     0.1073    0.5404    0.1790       161\n",
      "           _     0.6638    0.8000    0.7256     11051\n",
      "         NUM     0.1309    0.9246    0.2293       252\n",
      "        INTJ     0.8472    0.9150    0.8798      1236\n",
      "\n",
      "    accuracy                         0.6113    104693\n",
      "   macro avg     0.5616    0.5852    0.5041    104693\n",
      "weighted avg     0.6746    0.6113    0.6032    104693\n",
      "\n"
     ]
    }
   ],
   "source": [
    "flatten_gold_truth = [j for sub in ground_truth for j in sub]\n",
    "flatten_predictions = [j for sub in prediction for j in sub]\n",
    "\n",
    "print(classification_report(flatten_gold_truth, flatten_predictions, target_names=label_list, digits=4))"
   ]
  },
  {
   "cell_type": "markdown",
   "id": "T1eEm9zhz5C5",
   "metadata": {
    "id": "T1eEm9zhz5C5"
   },
   "source": [
    "# My Rule 1 is for VERB"
   ]
  },
  {
   "cell_type": "markdown",
   "id": "Jauko35iz5C7",
   "metadata": {
    "id": "Jauko35iz5C7"
   },
   "source": [
    "Let us write a simple rule to tag verbs"
   ]
  },
  {
   "cell_type": "code",
   "execution_count": 28,
   "id": "hpqD1Zybz5C9",
   "metadata": {
    "id": "hpqD1Zybz5C9"
   },
   "outputs": [],
   "source": [
    "def is_verb(word):\n",
    "    if word.endswith('ed'):\n",
    "        return True\n",
    "    else:\n",
    "        return False"
   ]
  },
  {
   "cell_type": "code",
   "execution_count": 29,
   "id": "wmVLcfzFz5C-",
   "metadata": {
    "id": "wmVLcfzFz5C-"
   },
   "outputs": [],
   "source": [
    "ground_truth = []\n",
    "prediction = []\n",
    "\n",
    "for every_sentence in train_split:\n",
    "    ground_truth_sentence = []\n",
    "    prediction_sentence = []\n",
    "\n",
    "    for every_token in every_sentence:\n",
    "        word, label = every_token\n",
    "        ground_truth_sentence.append( label )\n",
    "        \n",
    "        if is_verb(word):\n",
    "            prediction_sentence.append('VERB')\n",
    "        else:\n",
    "            if word in word_pos_frequency:\n",
    "                prediction_sentence.append( getMax( word_pos_frequency[word] ) )\n",
    "            else:\n",
    "                prediction_sentence.append( random.choice( label_list ) )\n",
    "\n",
    "    ground_truth.append( ground_truth_sentence )\n",
    "    prediction.append( prediction_sentence )"
   ]
  },
  {
   "cell_type": "code",
   "execution_count": 30,
   "id": "5UfhXP8pz5C_",
   "metadata": {
    "id": "5UfhXP8pz5C_",
    "outputId": "3b92b22c-a69c-47dd-9d8d-cd3157718d58"
   },
   "outputs": [
    {
     "name": "stdout",
     "output_type": "stream",
     "text": [
      "              precision    recall  f1-score   support\n",
      "\n",
      "         ADJ     0.6894    0.6895    0.6895      6938\n",
      "        NOUN     0.4711    0.0499    0.0903     10292\n",
      "       CCONJ     0.2338    0.6297    0.3410      4264\n",
      "       PUNCT     0.6914    0.2691    0.3874      4805\n",
      "         ADP     0.8237    0.1797    0.2950      3250\n",
      "       PROPN     0.1707    0.1186    0.1400      8597\n",
      "        VERB     0.4599    0.7975    0.5833       395\n",
      "         ADV     0.8165    0.8577    0.8366     18146\n",
      "         AUX     0.9896    0.7067    0.8245      2158\n",
      "         DET     0.0914    0.2739    0.1371      2373\n",
      "        PRON     0.8995    0.6273    0.7391      7346\n",
      "       SCONJ     0.7488    0.8970    0.8162      7162\n",
      "           X     0.9907    0.9048    0.9458     14219\n",
      "         SYM     0.1627    0.3032    0.2117      2048\n",
      "        PART     0.1073    0.5404    0.1790       161\n",
      "           _     0.6527    0.8148    0.7248     11051\n",
      "         NUM     0.1314    0.9286    0.2302       252\n",
      "        INTJ     0.8472    0.9150    0.8798      1236\n",
      "\n",
      "    accuracy                         0.6104    104693\n",
      "   macro avg     0.5543    0.5835    0.5029    104693\n",
      "weighted avg     0.6700    0.6104    0.6022    104693\n",
      "\n"
     ]
    }
   ],
   "source": [
    "flatten_gold_truth = [j for sub in ground_truth for j in sub]\n",
    "flatten_predictions = [j for sub in prediction for j in sub]\n",
    "\n",
    "print(classification_report(flatten_gold_truth, flatten_predictions, target_names=label_list, digits=4))"
   ]
  },
  {
   "cell_type": "markdown",
   "id": "Z9YmXSH2z6fW",
   "metadata": {
    "id": "Z9YmXSH2z6fW"
   },
   "source": [
    "# My Rule 2 is for Adjective"
   ]
  },
  {
   "cell_type": "markdown",
   "id": "qTiPnT-Oz6fX",
   "metadata": {
    "id": "qTiPnT-Oz6fX"
   },
   "source": [
    "Let us write a simple rule to tag adjective"
   ]
  },
  {
   "cell_type": "code",
   "execution_count": 31,
   "id": "4zXb6JaXz6fZ",
   "metadata": {
    "id": "4zXb6JaXz6fZ"
   },
   "outputs": [],
   "source": [
    "def is_adjective(word):\n",
    "    if word.endswith('er'):\n",
    "        return True\n",
    "    else:\n",
    "        return False"
   ]
  },
  {
   "cell_type": "code",
   "execution_count": 32,
   "id": "UUERvndnz6fZ",
   "metadata": {
    "id": "UUERvndnz6fZ"
   },
   "outputs": [],
   "source": [
    "ground_truth = []\n",
    "prediction = []\n",
    "\n",
    "for every_sentence in train_split:\n",
    "    ground_truth_sentence = []\n",
    "    prediction_sentence = []\n",
    "\n",
    "    for every_token in every_sentence:\n",
    "        word, label = every_token\n",
    "        ground_truth_sentence.append( label )\n",
    "        \n",
    "        if is_adjective(word):\n",
    "            prediction_sentence.append('ADJ')\n",
    "        else:\n",
    "            if word in word_pos_frequency:\n",
    "                prediction_sentence.append( getMax( word_pos_frequency[word] ) )\n",
    "            else:\n",
    "                prediction_sentence.append( random.choice( label_list ) )\n",
    "\n",
    "    ground_truth.append( ground_truth_sentence )\n",
    "    prediction.append( prediction_sentence )"
   ]
  },
  {
   "cell_type": "code",
   "execution_count": 33,
   "id": "YjduN2vEz6fa",
   "metadata": {
    "id": "YjduN2vEz6fa",
    "outputId": "3b92b22c-a69c-47dd-9d8d-cd3157718d58"
   },
   "outputs": [
    {
     "name": "stdout",
     "output_type": "stream",
     "text": [
      "              precision    recall  f1-score   support\n",
      "\n",
      "         ADJ     0.5558    0.7433    0.6360      6938\n",
      "        NOUN     0.4695    0.0486    0.0881     10292\n",
      "       CCONJ     0.2234    0.5790    0.3224      4264\n",
      "       PUNCT     0.6914    0.2691    0.3874      4805\n",
      "         ADP     0.8433    0.1788    0.2950      3250\n",
      "       PROPN     0.1688    0.1140    0.1361      8597\n",
      "        VERB     0.4599    0.7975    0.5833       395\n",
      "         ADV     0.8110    0.8238    0.8174     18146\n",
      "         AUX     0.9897    0.7118    0.8280      2158\n",
      "         DET     0.0914    0.2739    0.1371      2373\n",
      "        PRON     0.8951    0.5950    0.7149      7346\n",
      "       SCONJ     0.7384    0.8690    0.7984      7162\n",
      "           X     0.9907    0.9048    0.9458     14219\n",
      "         SYM     0.1614    0.2988    0.2096      2048\n",
      "        PART     0.1073    0.5404    0.1790       161\n",
      "           _     0.6661    0.7921    0.7237     11051\n",
      "         NUM     0.1294    0.9127    0.2267       252\n",
      "        INTJ     0.8472    0.9150    0.8798      1236\n",
      "\n",
      "    accuracy                         0.5989    104693\n",
      "   macro avg     0.5467    0.5760    0.4949    104693\n",
      "weighted avg     0.6605    0.5989    0.5910    104693\n",
      "\n"
     ]
    }
   ],
   "source": [
    "flatten_gold_truth = [j for sub in ground_truth for j in sub]\n",
    "flatten_predictions = [j for sub in prediction for j in sub]\n",
    "\n",
    "print(classification_report(flatten_gold_truth, flatten_predictions, target_names=label_list, digits=4))"
   ]
  },
  {
   "cell_type": "markdown",
   "id": "962LxWS8z6tZ",
   "metadata": {
    "id": "962LxWS8z6tZ"
   },
   "source": [
    "# My Rule 3 is for VERB"
   ]
  },
  {
   "cell_type": "markdown",
   "id": "novxZbnKz6ta",
   "metadata": {
    "id": "novxZbnKz6ta"
   },
   "source": [
    "Let us write a simple rule to tag verbs"
   ]
  },
  {
   "cell_type": "code",
   "execution_count": 34,
   "id": "5J0C-Esmz6ta",
   "metadata": {
    "id": "5J0C-Esmz6ta"
   },
   "outputs": [],
   "source": [
    "def is_verb(word):\n",
    "    if word.endswith('ing'):\n",
    "        return True\n",
    "    else:\n",
    "        return False"
   ]
  },
  {
   "cell_type": "code",
   "execution_count": 35,
   "id": "cNLtnDTBz6tb",
   "metadata": {
    "id": "cNLtnDTBz6tb"
   },
   "outputs": [],
   "source": [
    "ground_truth = []\n",
    "prediction = []\n",
    "\n",
    "for every_sentence in train_split:\n",
    "    ground_truth_sentence = []\n",
    "    prediction_sentence = []\n",
    "\n",
    "    for every_token in every_sentence:\n",
    "        word, label = every_token\n",
    "        ground_truth_sentence.append( label )\n",
    "        \n",
    "        if is_verb(word):\n",
    "            prediction_sentence.append('VERB')\n",
    "        else:\n",
    "            if word in word_pos_frequency:\n",
    "                prediction_sentence.append( getMax( word_pos_frequency[word] ) )\n",
    "            else:\n",
    "                prediction_sentence.append( random.choice( label_list ) )\n",
    "\n",
    "    ground_truth.append( ground_truth_sentence )\n",
    "    prediction.append( prediction_sentence )"
   ]
  },
  {
   "cell_type": "code",
   "execution_count": 36,
   "id": "RlRYkVTMz6tc",
   "metadata": {
    "id": "RlRYkVTMz6tc",
    "outputId": "3b92b22c-a69c-47dd-9d8d-cd3157718d58"
   },
   "outputs": [
    {
     "name": "stdout",
     "output_type": "stream",
     "text": [
      "              precision    recall  f1-score   support\n",
      "\n",
      "         ADJ     0.6902    0.7057    0.6978      6938\n",
      "        NOUN     0.4667    0.0491    0.0888     10292\n",
      "       CCONJ     0.2342    0.6309    0.3415      4264\n",
      "       PUNCT     0.6981    0.2681    0.3874      4805\n",
      "         ADP     0.8237    0.1797    0.2950      3250\n",
      "       PROPN     0.1707    0.1186    0.1400      8597\n",
      "        VERB     0.4567    0.7873    0.5781       395\n",
      "         ADV     0.8208    0.8359    0.8283     18146\n",
      "         AUX     0.9897    0.7118    0.8280      2158\n",
      "         DET     0.0914    0.2739    0.1371      2373\n",
      "        PRON     0.8995    0.6273    0.7391      7346\n",
      "       SCONJ     0.7444    0.8949    0.8127      7162\n",
      "           X     0.9907    0.9048    0.9458     14219\n",
      "         SYM     0.1642    0.3027    0.2129      2048\n",
      "        PART     0.1073    0.5404    0.1790       161\n",
      "           _     0.6375    0.8222    0.7181     11051\n",
      "         NUM     0.1314    0.9286    0.2302       252\n",
      "        INTJ     0.8472    0.9150    0.8798      1236\n",
      "\n",
      "    accuracy                         0.6083    104693\n",
      "   macro avg     0.5536    0.5832    0.5022    104693\n",
      "weighted avg     0.6688    0.6083    0.6003    104693\n",
      "\n"
     ]
    }
   ],
   "source": [
    "flatten_gold_truth = [j for sub in ground_truth for j in sub]\n",
    "flatten_predictions = [j for sub in prediction for j in sub]\n",
    "\n",
    "print(classification_report(flatten_gold_truth, flatten_predictions, target_names=label_list, digits=4))"
   ]
  },
  {
   "cell_type": "markdown",
   "id": "0c18mpFx0EdT",
   "metadata": {
    "id": "0c18mpFx0EdT"
   },
   "source": [
    "# My Rule 4 is for Adverbs"
   ]
  },
  {
   "cell_type": "markdown",
   "id": "JyHE-4Ha0EdU",
   "metadata": {
    "id": "JyHE-4Ha0EdU"
   },
   "source": [
    "Let us write a simple rule to tag adverbs.\n",
    "We consider question words as adverb."
   ]
  },
  {
   "cell_type": "code",
   "execution_count": 69,
   "id": "-heZkE-S0EdU",
   "metadata": {
    "id": "-heZkE-S0EdU"
   },
   "outputs": [],
   "source": [
    "def is_adverb(word):\n",
    "    if word.startswith('wh'):\n",
    "        return True\n",
    "    else:\n",
    "        return False"
   ]
  },
  {
   "cell_type": "code",
   "execution_count": 70,
   "id": "NuTtrEgZ0EdV",
   "metadata": {
    "id": "NuTtrEgZ0EdV"
   },
   "outputs": [],
   "source": [
    "ground_truth = []\n",
    "prediction = []\n",
    "\n",
    "for every_sentence in train_split:\n",
    "    ground_truth_sentence = []\n",
    "    prediction_sentence = []\n",
    "\n",
    "    for every_token in every_sentence:\n",
    "        word, label = every_token\n",
    "        ground_truth_sentence.append( label )\n",
    "        \n",
    "        if is_adverb(word):\n",
    "            prediction_sentence.append('ADV')\n",
    "        else:\n",
    "            if word in word_pos_frequency:\n",
    "                prediction_sentence.append( getMax( word_pos_frequency[word] ) )\n",
    "            else:\n",
    "                prediction_sentence.append( random.choice( label_list ) )\n",
    "\n",
    "    ground_truth.append( ground_truth_sentence )\n",
    "    prediction.append( prediction_sentence )"
   ]
  },
  {
   "cell_type": "code",
   "execution_count": 71,
   "id": "Oz-BccAt0EdW",
   "metadata": {
    "id": "Oz-BccAt0EdW",
    "outputId": "3b92b22c-a69c-47dd-9d8d-cd3157718d58"
   },
   "outputs": [
    {
     "name": "stdout",
     "output_type": "stream",
     "text": [
      "              precision    recall  f1-score   support\n",
      "\n",
      "         ADJ     0.6886    0.7178    0.7029      6938\n",
      "        NOUN     0.4711    0.0499    0.0903     10292\n",
      "       CCONJ     0.2207    0.6320    0.3272      4264\n",
      "       PUNCT     0.6914    0.2691    0.3874      4805\n",
      "         ADP     0.8437    0.1794    0.2959      3250\n",
      "       PROPN     0.1744    0.1171    0.1402      8597\n",
      "        VERB     0.4599    0.7975    0.5833       395\n",
      "         ADV     0.8188    0.8581    0.8380     18146\n",
      "         AUX     0.9897    0.7118    0.8280      2158\n",
      "         DET     0.0914    0.2739    0.1371      2373\n",
      "        PRON     0.8966    0.5889    0.7109      7346\n",
      "       SCONJ     0.7454    0.9038    0.8170      7162\n",
      "           X     0.9907    0.9048    0.9458     14219\n",
      "         SYM     0.1607    0.2988    0.2090      2048\n",
      "        PART     0.1073    0.5404    0.1790       161\n",
      "           _     0.6686    0.8012    0.7289     11051\n",
      "         NUM     0.1314    0.9286    0.2302       252\n",
      "        INTJ     0.8458    0.9053    0.8746      1236\n",
      "\n",
      "    accuracy                         0.6086    104693\n",
      "   macro avg     0.5553    0.5821    0.5014    104693\n",
      "weighted avg     0.6719    0.6086    0.6013    104693\n",
      "\n"
     ]
    }
   ],
   "source": [
    "flatten_gold_truth = [j for sub in ground_truth for j in sub]\n",
    "flatten_predictions = [j for sub in prediction for j in sub]\n",
    "\n",
    "print(classification_report(flatten_gold_truth, flatten_predictions, target_names=label_list, digits=4))"
   ]
  }
 ],
 "metadata": {
  "colab": {
   "collapsed_sections": [
    "69113ede-8dc5-4697-a00a-3aa73b4d9406",
    "5ab677fa-bbe9-4355-92b0-7aedd4fce9b3",
    "T1eEm9zhz5C5",
    "Z9YmXSH2z6fW",
    "962LxWS8z6tZ",
    "0c18mpFx0EdT"
   ],
   "name": "rule-based-pos.ipynb",
   "provenance": []
  },
  "kernelspec": {
   "display_name": "Python 3 (ipykernel)",
   "language": "python",
   "name": "python3"
  },
  "language_info": {
   "codemirror_mode": {
    "name": "ipython",
    "version": 3
   },
   "file_extension": ".py",
   "mimetype": "text/x-python",
   "name": "python",
   "nbconvert_exporter": "python",
   "pygments_lexer": "ipython3",
   "version": "3.9.7"
  }
 },
 "nbformat": 4,
 "nbformat_minor": 5
}
